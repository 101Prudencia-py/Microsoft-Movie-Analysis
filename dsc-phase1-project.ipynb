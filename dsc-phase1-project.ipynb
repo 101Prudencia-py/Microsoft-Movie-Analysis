{
 "cells": [
  {
   "cell_type": "markdown",
   "metadata": {},
   "source": [
    "# Microsoft-Movie-Analysis\n",
    "\n",
    "**Author:** Prudence Coredo\n",
    "\n",
    "**dsc-FT**\n",
    "***"
   ]
  },
  {
   "cell_type": "markdown",
   "metadata": {},
   "source": [
    "## Overview\n",
    "\n",
    "Microsoft have decided to create a new movie studio and require more insight into which types of films are doing best at the box office in order to choose the genre of movies to produce that can generate the most profit.\n",
    "This project uses descriptive statistical analysis on data gathered from [IMDb website](https://www.imdb.com/) to gain insight into which combination of genres topped the league in these areas.\n",
    "\n"
   ]
  },
  {
   "cell_type": "markdown",
   "metadata": {},
   "source": [
    "### Business Understanding\n",
    "\n",
    "***"
   ]
  },
  {
   "cell_type": "markdown",
   "metadata": {},
   "source": [
    "Microsoft wants to produce movies, they want to know which types of movies are the most successful. To answer that question both Domestic and Foreign Sales data was analysed to see the most financially successful genres, along with the average rating given and number of votes for each type or genre of movie to see how popularity compared with financial success."
   ]
  },
  {
   "cell_type": "markdown",
   "metadata": {},
   "source": [
    "## Data Understanding\n",
    "\n",
    "IMDb is the world's most popular and authoritative source for movie, TV and celebrity content. Find ratings and reviews for the newest movie and TV shows.\n",
    "3 dataset were used for this analysis [bom.movie_gross.csv](../bom.movie_gross.csv), and 2 tables from the imbd database **movie_basics** and **movie_ratings**\n",
    "***"
   ]
  },
  {
   "cell_type": "markdown",
   "metadata": {},
   "source": [
    "### Importing the libraries"
   ]
  },
  {
   "cell_type": "code",
   "execution_count": 1,
   "metadata": {},
   "outputs": [],
   "source": [
    "# Import standard packages\n",
    "import pandas as pd\n",
    "import numpy as np\n",
    "import matplotlib.pyplot as plt\n",
    "import seaborn as sns\n",
    "\n",
    "%matplotlib inline"
   ]
  },
  {
   "cell_type": "markdown",
   "metadata": {},
   "source": [
    "#### Loading the dataset"
   ]
  },
  {
   "cell_type": "code",
   "execution_count": 2,
   "metadata": {},
   "outputs": [],
   "source": [
    "#load the first csv file \n",
    "movie_gross = pd.read_csv('bom.movie_gross.csv')\n",
    "df1 = pd.read_csv('tmdb.movies.csv')\n"
   ]
  },
  {
   "cell_type": "markdown",
   "metadata": {},
   "source": [
    "#### Previewing the dataset"
   ]
  },
  {
   "cell_type": "markdown",
   "metadata": {},
   "source": [
    "We need to be able to see what kind of data we are dealing with to better understand what's relevant in the dataset before analysis. "
   ]
  },
  {
   "cell_type": "code",
   "execution_count": 3,
   "metadata": {},
   "outputs": [
    {
     "data": {
      "text/html": [
       "<div>\n",
       "<style scoped>\n",
       "    .dataframe tbody tr th:only-of-type {\n",
       "        vertical-align: middle;\n",
       "    }\n",
       "\n",
       "    .dataframe tbody tr th {\n",
       "        vertical-align: top;\n",
       "    }\n",
       "\n",
       "    .dataframe thead th {\n",
       "        text-align: right;\n",
       "    }\n",
       "</style>\n",
       "<table border=\"1\" class=\"dataframe\">\n",
       "  <thead>\n",
       "    <tr style=\"text-align: right;\">\n",
       "      <th></th>\n",
       "      <th>title</th>\n",
       "      <th>studio</th>\n",
       "      <th>domestic_gross</th>\n",
       "      <th>foreign_gross</th>\n",
       "      <th>year</th>\n",
       "    </tr>\n",
       "  </thead>\n",
       "  <tbody>\n",
       "    <tr>\n",
       "      <th>0</th>\n",
       "      <td>Toy Story 3</td>\n",
       "      <td>BV</td>\n",
       "      <td>415000000.0</td>\n",
       "      <td>652000000</td>\n",
       "      <td>2010</td>\n",
       "    </tr>\n",
       "    <tr>\n",
       "      <th>1</th>\n",
       "      <td>Alice in Wonderland (2010)</td>\n",
       "      <td>BV</td>\n",
       "      <td>334200000.0</td>\n",
       "      <td>691300000</td>\n",
       "      <td>2010</td>\n",
       "    </tr>\n",
       "    <tr>\n",
       "      <th>2</th>\n",
       "      <td>Harry Potter and the Deathly Hallows Part 1</td>\n",
       "      <td>WB</td>\n",
       "      <td>296000000.0</td>\n",
       "      <td>664300000</td>\n",
       "      <td>2010</td>\n",
       "    </tr>\n",
       "    <tr>\n",
       "      <th>3</th>\n",
       "      <td>Inception</td>\n",
       "      <td>WB</td>\n",
       "      <td>292600000.0</td>\n",
       "      <td>535700000</td>\n",
       "      <td>2010</td>\n",
       "    </tr>\n",
       "    <tr>\n",
       "      <th>4</th>\n",
       "      <td>Shrek Forever After</td>\n",
       "      <td>P/DW</td>\n",
       "      <td>238700000.0</td>\n",
       "      <td>513900000</td>\n",
       "      <td>2010</td>\n",
       "    </tr>\n",
       "  </tbody>\n",
       "</table>\n",
       "</div>"
      ],
      "text/plain": [
       "                                         title studio  domestic_gross  \\\n",
       "0                                  Toy Story 3     BV     415000000.0   \n",
       "1                   Alice in Wonderland (2010)     BV     334200000.0   \n",
       "2  Harry Potter and the Deathly Hallows Part 1     WB     296000000.0   \n",
       "3                                    Inception     WB     292600000.0   \n",
       "4                          Shrek Forever After   P/DW     238700000.0   \n",
       "\n",
       "  foreign_gross  year  \n",
       "0     652000000  2010  \n",
       "1     691300000  2010  \n",
       "2     664300000  2010  \n",
       "3     535700000  2010  \n",
       "4     513900000  2010  "
      ]
     },
     "execution_count": 3,
     "metadata": {},
     "output_type": "execute_result"
    }
   ],
   "source": [
    "#viewing the top of the dataset\n",
    "movie_gross.head()"
   ]
  },
  {
   "cell_type": "code",
   "execution_count": 4,
   "metadata": {},
   "outputs": [
    {
     "name": "stdout",
     "output_type": "stream",
     "text": [
      "<class 'pandas.core.frame.DataFrame'>\n",
      "RangeIndex: 3387 entries, 0 to 3386\n",
      "Data columns (total 5 columns):\n",
      " #   Column          Non-Null Count  Dtype  \n",
      "---  ------          --------------  -----  \n",
      " 0   title           3387 non-null   object \n",
      " 1   studio          3382 non-null   object \n",
      " 2   domestic_gross  3359 non-null   float64\n",
      " 3   foreign_gross   2037 non-null   object \n",
      " 4   year            3387 non-null   int64  \n",
      "dtypes: float64(1), int64(1), object(3)\n",
      "memory usage: 132.4+ KB\n"
     ]
    }
   ],
   "source": [
    "movie_gross.info()"
   ]
  },
  {
   "cell_type": "code",
   "execution_count": 5,
   "metadata": {},
   "outputs": [
    {
     "data": {
      "text/plain": [
       "(3387, 5)"
      ]
     },
     "execution_count": 5,
     "metadata": {},
     "output_type": "execute_result"
    }
   ],
   "source": [
    "movie_gross.shape"
   ]
  },
  {
   "cell_type": "code",
   "execution_count": 6,
   "metadata": {},
   "outputs": [
    {
     "data": {
      "text/plain": [
       "title             3387\n",
       "studio            3382\n",
       "domestic_gross    3359\n",
       "foreign_gross     2037\n",
       "year              3387\n",
       "dtype: int64"
      ]
     },
     "execution_count": 6,
     "metadata": {},
     "output_type": "execute_result"
    }
   ],
   "source": [
    "#checking number of entries in each column\n",
    "movie_gross.count()"
   ]
  },
  {
   "cell_type": "code",
   "execution_count": 7,
   "metadata": {},
   "outputs": [
    {
     "data": {
      "text/plain": [
       "IFC          166\n",
       "Uni.         147\n",
       "WB           140\n",
       "Magn.        136\n",
       "Fox          136\n",
       "            ... \n",
       "IW             1\n",
       "SHO            1\n",
       "Dreamwest      1\n",
       "DF             1\n",
       "Arth.          1\n",
       "Name: studio, Length: 257, dtype: int64"
      ]
     },
     "execution_count": 7,
     "metadata": {},
     "output_type": "execute_result"
    }
   ],
   "source": [
    "movie_gross['studio'].value_counts()"
   ]
  },
  {
   "cell_type": "markdown",
   "metadata": {},
   "source": [
    " Now that we have viewed the first dataset, We can now look at the database data to get an insight of how to relate the different tables"
   ]
  },
  {
   "cell_type": "code",
   "execution_count": 8,
   "metadata": {},
   "outputs": [],
   "source": [
    "#importing the sql database which is our main dataset\n",
    "import sqlite3\n",
    "conn = sqlite3.connect(\"im.db\")"
   ]
  },
  {
   "cell_type": "code",
   "execution_count": 9,
   "metadata": {},
   "outputs": [
    {
     "data": {
      "text/html": [
       "<div>\n",
       "<style scoped>\n",
       "    .dataframe tbody tr th:only-of-type {\n",
       "        vertical-align: middle;\n",
       "    }\n",
       "\n",
       "    .dataframe tbody tr th {\n",
       "        vertical-align: top;\n",
       "    }\n",
       "\n",
       "    .dataframe thead th {\n",
       "        text-align: right;\n",
       "    }\n",
       "</style>\n",
       "<table border=\"1\" class=\"dataframe\">\n",
       "  <thead>\n",
       "    <tr style=\"text-align: right;\">\n",
       "      <th></th>\n",
       "      <th>name</th>\n",
       "    </tr>\n",
       "  </thead>\n",
       "  <tbody>\n",
       "    <tr>\n",
       "      <th>0</th>\n",
       "      <td>movie_basics</td>\n",
       "    </tr>\n",
       "    <tr>\n",
       "      <th>1</th>\n",
       "      <td>directors</td>\n",
       "    </tr>\n",
       "    <tr>\n",
       "      <th>2</th>\n",
       "      <td>known_for</td>\n",
       "    </tr>\n",
       "    <tr>\n",
       "      <th>3</th>\n",
       "      <td>movie_akas</td>\n",
       "    </tr>\n",
       "    <tr>\n",
       "      <th>4</th>\n",
       "      <td>movie_ratings</td>\n",
       "    </tr>\n",
       "    <tr>\n",
       "      <th>5</th>\n",
       "      <td>persons</td>\n",
       "    </tr>\n",
       "    <tr>\n",
       "      <th>6</th>\n",
       "      <td>principals</td>\n",
       "    </tr>\n",
       "    <tr>\n",
       "      <th>7</th>\n",
       "      <td>writers</td>\n",
       "    </tr>\n",
       "  </tbody>\n",
       "</table>\n",
       "</div>"
      ],
      "text/plain": [
       "            name\n",
       "0   movie_basics\n",
       "1      directors\n",
       "2      known_for\n",
       "3     movie_akas\n",
       "4  movie_ratings\n",
       "5        persons\n",
       "6     principals\n",
       "7        writers"
      ]
     },
     "execution_count": 9,
     "metadata": {},
     "output_type": "execute_result"
    }
   ],
   "source": [
    "#Viewing tables in the database\n",
    "data = pd.read_sql(\"\"\"SELECT name FROM sqlite_master WHERE type = 'table';\"\"\", conn)\n",
    "data"
   ]
  },
  {
   "cell_type": "code",
   "execution_count": 10,
   "metadata": {},
   "outputs": [
    {
     "data": {
      "text/html": [
       "<div>\n",
       "<style scoped>\n",
       "    .dataframe tbody tr th:only-of-type {\n",
       "        vertical-align: middle;\n",
       "    }\n",
       "\n",
       "    .dataframe tbody tr th {\n",
       "        vertical-align: top;\n",
       "    }\n",
       "\n",
       "    .dataframe thead th {\n",
       "        text-align: right;\n",
       "    }\n",
       "</style>\n",
       "<table border=\"1\" class=\"dataframe\">\n",
       "  <thead>\n",
       "    <tr style=\"text-align: right;\">\n",
       "      <th></th>\n",
       "      <th>movie_id</th>\n",
       "      <th>primary_title</th>\n",
       "      <th>original_title</th>\n",
       "      <th>start_year</th>\n",
       "      <th>runtime_minutes</th>\n",
       "      <th>genres</th>\n",
       "    </tr>\n",
       "  </thead>\n",
       "  <tbody>\n",
       "    <tr>\n",
       "      <th>0</th>\n",
       "      <td>tt0063540</td>\n",
       "      <td>Sunghursh</td>\n",
       "      <td>Sunghursh</td>\n",
       "      <td>2013</td>\n",
       "      <td>175.0</td>\n",
       "      <td>Action,Crime,Drama</td>\n",
       "    </tr>\n",
       "    <tr>\n",
       "      <th>1</th>\n",
       "      <td>tt0066787</td>\n",
       "      <td>One Day Before the Rainy Season</td>\n",
       "      <td>Ashad Ka Ek Din</td>\n",
       "      <td>2019</td>\n",
       "      <td>114.0</td>\n",
       "      <td>Biography,Drama</td>\n",
       "    </tr>\n",
       "    <tr>\n",
       "      <th>2</th>\n",
       "      <td>tt0069049</td>\n",
       "      <td>The Other Side of the Wind</td>\n",
       "      <td>The Other Side of the Wind</td>\n",
       "      <td>2018</td>\n",
       "      <td>122.0</td>\n",
       "      <td>Drama</td>\n",
       "    </tr>\n",
       "    <tr>\n",
       "      <th>3</th>\n",
       "      <td>tt0069204</td>\n",
       "      <td>Sabse Bada Sukh</td>\n",
       "      <td>Sabse Bada Sukh</td>\n",
       "      <td>2018</td>\n",
       "      <td>NaN</td>\n",
       "      <td>Comedy,Drama</td>\n",
       "    </tr>\n",
       "    <tr>\n",
       "      <th>4</th>\n",
       "      <td>tt0100275</td>\n",
       "      <td>The Wandering Soap Opera</td>\n",
       "      <td>La Telenovela Errante</td>\n",
       "      <td>2017</td>\n",
       "      <td>80.0</td>\n",
       "      <td>Comedy,Drama,Fantasy</td>\n",
       "    </tr>\n",
       "    <tr>\n",
       "      <th>...</th>\n",
       "      <td>...</td>\n",
       "      <td>...</td>\n",
       "      <td>...</td>\n",
       "      <td>...</td>\n",
       "      <td>...</td>\n",
       "      <td>...</td>\n",
       "    </tr>\n",
       "    <tr>\n",
       "      <th>146139</th>\n",
       "      <td>tt9916538</td>\n",
       "      <td>Kuambil Lagi Hatiku</td>\n",
       "      <td>Kuambil Lagi Hatiku</td>\n",
       "      <td>2019</td>\n",
       "      <td>123.0</td>\n",
       "      <td>Drama</td>\n",
       "    </tr>\n",
       "    <tr>\n",
       "      <th>146140</th>\n",
       "      <td>tt9916622</td>\n",
       "      <td>Rodolpho Teóphilo - O Legado de um Pioneiro</td>\n",
       "      <td>Rodolpho Teóphilo - O Legado de um Pioneiro</td>\n",
       "      <td>2015</td>\n",
       "      <td>NaN</td>\n",
       "      <td>Documentary</td>\n",
       "    </tr>\n",
       "    <tr>\n",
       "      <th>146141</th>\n",
       "      <td>tt9916706</td>\n",
       "      <td>Dankyavar Danka</td>\n",
       "      <td>Dankyavar Danka</td>\n",
       "      <td>2013</td>\n",
       "      <td>NaN</td>\n",
       "      <td>Comedy</td>\n",
       "    </tr>\n",
       "    <tr>\n",
       "      <th>146142</th>\n",
       "      <td>tt9916730</td>\n",
       "      <td>6 Gunn</td>\n",
       "      <td>6 Gunn</td>\n",
       "      <td>2017</td>\n",
       "      <td>116.0</td>\n",
       "      <td>None</td>\n",
       "    </tr>\n",
       "    <tr>\n",
       "      <th>146143</th>\n",
       "      <td>tt9916754</td>\n",
       "      <td>Chico Albuquerque - Revelações</td>\n",
       "      <td>Chico Albuquerque - Revelações</td>\n",
       "      <td>2013</td>\n",
       "      <td>NaN</td>\n",
       "      <td>Documentary</td>\n",
       "    </tr>\n",
       "  </tbody>\n",
       "</table>\n",
       "<p>146144 rows × 6 columns</p>\n",
       "</div>"
      ],
      "text/plain": [
       "         movie_id                                primary_title  \\\n",
       "0       tt0063540                                    Sunghursh   \n",
       "1       tt0066787              One Day Before the Rainy Season   \n",
       "2       tt0069049                   The Other Side of the Wind   \n",
       "3       tt0069204                              Sabse Bada Sukh   \n",
       "4       tt0100275                     The Wandering Soap Opera   \n",
       "...           ...                                          ...   \n",
       "146139  tt9916538                          Kuambil Lagi Hatiku   \n",
       "146140  tt9916622  Rodolpho Teóphilo - O Legado de um Pioneiro   \n",
       "146141  tt9916706                              Dankyavar Danka   \n",
       "146142  tt9916730                                       6 Gunn   \n",
       "146143  tt9916754               Chico Albuquerque - Revelações   \n",
       "\n",
       "                                     original_title  start_year  \\\n",
       "0                                         Sunghursh        2013   \n",
       "1                                   Ashad Ka Ek Din        2019   \n",
       "2                        The Other Side of the Wind        2018   \n",
       "3                                   Sabse Bada Sukh        2018   \n",
       "4                             La Telenovela Errante        2017   \n",
       "...                                             ...         ...   \n",
       "146139                          Kuambil Lagi Hatiku        2019   \n",
       "146140  Rodolpho Teóphilo - O Legado de um Pioneiro        2015   \n",
       "146141                              Dankyavar Danka        2013   \n",
       "146142                                       6 Gunn        2017   \n",
       "146143               Chico Albuquerque - Revelações        2013   \n",
       "\n",
       "        runtime_minutes                genres  \n",
       "0                 175.0    Action,Crime,Drama  \n",
       "1                 114.0       Biography,Drama  \n",
       "2                 122.0                 Drama  \n",
       "3                   NaN          Comedy,Drama  \n",
       "4                  80.0  Comedy,Drama,Fantasy  \n",
       "...                 ...                   ...  \n",
       "146139            123.0                 Drama  \n",
       "146140              NaN           Documentary  \n",
       "146141              NaN                Comedy  \n",
       "146142            116.0                  None  \n",
       "146143              NaN           Documentary  \n",
       "\n",
       "[146144 rows x 6 columns]"
      ]
     },
     "execution_count": 10,
     "metadata": {},
     "output_type": "execute_result"
    }
   ],
   "source": [
    "#Loading the data from the table movie_basics\n",
    "pd.read_sql(\"\"\"SELECT * FROM movie_basics;\"\"\", conn)"
   ]
  },
  {
   "cell_type": "code",
   "execution_count": 11,
   "metadata": {},
   "outputs": [
    {
     "name": "stdout",
     "output_type": "stream",
     "text": [
      "<class 'pandas.core.frame.DataFrame'>\n",
      "RangeIndex: 146144 entries, 0 to 146143\n",
      "Data columns (total 6 columns):\n",
      " #   Column           Non-Null Count   Dtype  \n",
      "---  ------           --------------   -----  \n",
      " 0   movie_id         146144 non-null  object \n",
      " 1   primary_title    146144 non-null  object \n",
      " 2   original_title   146123 non-null  object \n",
      " 3   start_year       146144 non-null  int64  \n",
      " 4   runtime_minutes  114405 non-null  float64\n",
      " 5   genres           140736 non-null  object \n",
      "dtypes: float64(1), int64(1), object(4)\n",
      "memory usage: 6.7+ MB\n"
     ]
    }
   ],
   "source": [
    "pd.read_sql(\"\"\"SELECT * FROM movie_basics;\"\"\", conn).info()"
   ]
  },
  {
   "cell_type": "code",
   "execution_count": 12,
   "metadata": {},
   "outputs": [
    {
     "data": {
      "text/plain": [
       "array(['Action,Crime,Drama', 'Biography,Drama', 'Drama', ...,\n",
       "       'Music,Musical,Reality-TV', 'Animation,Crime',\n",
       "       'Adventure,History,War'], dtype=object)"
      ]
     },
     "execution_count": 12,
     "metadata": {},
     "output_type": "execute_result"
    }
   ],
   "source": [
    "pd.read_sql(\"\"\"SELECT * FROM movie_basics;\"\"\", conn)['genres'].unique()"
   ]
  },
  {
   "cell_type": "code",
   "execution_count": 13,
   "metadata": {},
   "outputs": [
    {
     "data": {
      "text/plain": [
       "Documentary                    32185\n",
       "Drama                          21486\n",
       "Comedy                          9177\n",
       "Horror                          4372\n",
       "Comedy,Drama                    3519\n",
       "                               ...  \n",
       "Family,Romance,Sport               1\n",
       "Action,Documentary,Thriller        1\n",
       "Comedy,Documentary,War             1\n",
       "Documentary,Horror,Sci-Fi          1\n",
       "Animation,Family,Sci-Fi            1\n",
       "Name: genres, Length: 1085, dtype: int64"
      ]
     },
     "execution_count": 13,
     "metadata": {},
     "output_type": "execute_result"
    }
   ],
   "source": [
    "pd.read_sql(\"\"\"SELECT * FROM movie_basics;\"\"\", conn)['genres'].value_counts()"
   ]
  },
  {
   "cell_type": "code",
   "execution_count": 14,
   "metadata": {},
   "outputs": [
    {
     "data": {
      "text/html": [
       "<div>\n",
       "<style scoped>\n",
       "    .dataframe tbody tr th:only-of-type {\n",
       "        vertical-align: middle;\n",
       "    }\n",
       "\n",
       "    .dataframe tbody tr th {\n",
       "        vertical-align: top;\n",
       "    }\n",
       "\n",
       "    .dataframe thead th {\n",
       "        text-align: right;\n",
       "    }\n",
       "</style>\n",
       "<table border=\"1\" class=\"dataframe\">\n",
       "  <thead>\n",
       "    <tr style=\"text-align: right;\">\n",
       "      <th></th>\n",
       "      <th>movie_id</th>\n",
       "      <th>averagerating</th>\n",
       "      <th>numvotes</th>\n",
       "    </tr>\n",
       "  </thead>\n",
       "  <tbody>\n",
       "    <tr>\n",
       "      <th>0</th>\n",
       "      <td>tt10356526</td>\n",
       "      <td>8.3</td>\n",
       "      <td>31</td>\n",
       "    </tr>\n",
       "    <tr>\n",
       "      <th>1</th>\n",
       "      <td>tt10384606</td>\n",
       "      <td>8.9</td>\n",
       "      <td>559</td>\n",
       "    </tr>\n",
       "    <tr>\n",
       "      <th>2</th>\n",
       "      <td>tt1042974</td>\n",
       "      <td>6.4</td>\n",
       "      <td>20</td>\n",
       "    </tr>\n",
       "    <tr>\n",
       "      <th>3</th>\n",
       "      <td>tt1043726</td>\n",
       "      <td>4.2</td>\n",
       "      <td>50352</td>\n",
       "    </tr>\n",
       "    <tr>\n",
       "      <th>4</th>\n",
       "      <td>tt1060240</td>\n",
       "      <td>6.5</td>\n",
       "      <td>21</td>\n",
       "    </tr>\n",
       "    <tr>\n",
       "      <th>...</th>\n",
       "      <td>...</td>\n",
       "      <td>...</td>\n",
       "      <td>...</td>\n",
       "    </tr>\n",
       "    <tr>\n",
       "      <th>73851</th>\n",
       "      <td>tt9805820</td>\n",
       "      <td>8.1</td>\n",
       "      <td>25</td>\n",
       "    </tr>\n",
       "    <tr>\n",
       "      <th>73852</th>\n",
       "      <td>tt9844256</td>\n",
       "      <td>7.5</td>\n",
       "      <td>24</td>\n",
       "    </tr>\n",
       "    <tr>\n",
       "      <th>73853</th>\n",
       "      <td>tt9851050</td>\n",
       "      <td>4.7</td>\n",
       "      <td>14</td>\n",
       "    </tr>\n",
       "    <tr>\n",
       "      <th>73854</th>\n",
       "      <td>tt9886934</td>\n",
       "      <td>7.0</td>\n",
       "      <td>5</td>\n",
       "    </tr>\n",
       "    <tr>\n",
       "      <th>73855</th>\n",
       "      <td>tt9894098</td>\n",
       "      <td>6.3</td>\n",
       "      <td>128</td>\n",
       "    </tr>\n",
       "  </tbody>\n",
       "</table>\n",
       "<p>73856 rows × 3 columns</p>\n",
       "</div>"
      ],
      "text/plain": [
       "         movie_id  averagerating  numvotes\n",
       "0      tt10356526            8.3        31\n",
       "1      tt10384606            8.9       559\n",
       "2       tt1042974            6.4        20\n",
       "3       tt1043726            4.2     50352\n",
       "4       tt1060240            6.5        21\n",
       "...           ...            ...       ...\n",
       "73851   tt9805820            8.1        25\n",
       "73852   tt9844256            7.5        24\n",
       "73853   tt9851050            4.7        14\n",
       "73854   tt9886934            7.0         5\n",
       "73855   tt9894098            6.3       128\n",
       "\n",
       "[73856 rows x 3 columns]"
      ]
     },
     "execution_count": 14,
     "metadata": {},
     "output_type": "execute_result"
    }
   ],
   "source": [
    "#Loading the contents from the table movie_ratings.\n",
    "movie_ratings = pd.read_sql(\"\"\"SELECT * FROM movie_ratings;\"\"\", conn)\n",
    "movie_ratings"
   ]
  },
  {
   "cell_type": "code",
   "execution_count": 15,
   "metadata": {},
   "outputs": [
    {
     "name": "stdout",
     "output_type": "stream",
     "text": [
      "<class 'pandas.core.frame.DataFrame'>\n",
      "RangeIndex: 73856 entries, 0 to 73855\n",
      "Data columns (total 3 columns):\n",
      " #   Column         Non-Null Count  Dtype  \n",
      "---  ------         --------------  -----  \n",
      " 0   movie_id       73856 non-null  object \n",
      " 1   averagerating  73856 non-null  float64\n",
      " 2   numvotes       73856 non-null  int64  \n",
      "dtypes: float64(1), int64(1), object(1)\n",
      "memory usage: 1.7+ MB\n"
     ]
    }
   ],
   "source": [
    "pd.read_sql(\"\"\"SELECT * FROM movie_ratings;\"\"\", conn).info()"
   ]
  },
  {
   "cell_type": "markdown",
   "metadata": {},
   "source": [
    "## Data Preparation\n",
    "\n",
    "***"
   ]
  },
  {
   "cell_type": "markdown",
   "metadata": {},
   "source": [
    "### Cleaning the data\n",
    "We need to check for missing and duplicate values, null values before we can merge or query the data to produce graphs\n"
   ]
  },
  {
   "cell_type": "markdown",
   "metadata": {},
   "source": [
    "movie_basics"
   ]
  },
  {
   "cell_type": "code",
   "execution_count": 16,
   "metadata": {},
   "outputs": [
    {
     "data": {
      "text/plain": [
       "movie_id               0\n",
       "primary_title          0\n",
       "original_title        21\n",
       "start_year             0\n",
       "runtime_minutes    31739\n",
       "genres              5408\n",
       "dtype: int64"
      ]
     },
     "execution_count": 16,
     "metadata": {},
     "output_type": "execute_result"
    }
   ],
   "source": [
    "#Checking whether there are any null values in any column in the table movie_basics\n",
    "movie_basics = pd.read_sql(\"\"\" \n",
    "SELECT *\n",
    "FROM movie_basics;\"\"\",conn)\n",
    "movie_basics.isnull().sum()\n"
   ]
  },
  {
   "cell_type": "code",
   "execution_count": 17,
   "metadata": {},
   "outputs": [
    {
     "name": "stdout",
     "output_type": "stream",
     "text": [
      "146144\n",
      "movie_id            0.000000\n",
      "primary_title       0.000000\n",
      "original_title      0.014369\n",
      "start_year          0.000000\n",
      "runtime_minutes    21.717621\n",
      "genres              3.700460\n",
      "dtype: float64\n"
     ]
    }
   ],
   "source": [
    "#Calculating the percentage of null values\n",
    "\n",
    "null_count = movie_basics.isnull().sum()\n",
    "\n",
    "#calculating the total number of null values\n",
    "\n",
    "total_count = movie_basics.shape[0]\n",
    "print(total_count)\n",
    "null_percentage = (null_count / total_count) * 100\n",
    "\n",
    "print(null_percentage)"
   ]
  },
  {
   "cell_type": "markdown",
   "metadata": {},
   "source": [
    "The above shows that there is a small percantage of null values, so we can do away with them."
   ]
  },
  {
   "cell_type": "code",
   "execution_count": 18,
   "metadata": {},
   "outputs": [
    {
     "data": {
      "text/plain": [
       "(112232, 6)"
      ]
     },
     "execution_count": 18,
     "metadata": {},
     "output_type": "execute_result"
    }
   ],
   "source": [
    "movie_basics = movie_basics.dropna()\n",
    "movie_basics.shape"
   ]
  },
  {
   "cell_type": "code",
   "execution_count": 19,
   "metadata": {},
   "outputs": [
    {
     "name": "stdout",
     "output_type": "stream",
     "text": [
      "<class 'pandas.core.frame.DataFrame'>\n",
      "Int64Index: 112232 entries, 0 to 146139\n",
      "Data columns (total 6 columns):\n",
      " #   Column           Non-Null Count   Dtype         \n",
      "---  ------           --------------   -----         \n",
      " 0   movie_id         112232 non-null  object        \n",
      " 1   primary_title    112232 non-null  object        \n",
      " 2   original_title   112232 non-null  object        \n",
      " 3   start_year       112232 non-null  datetime64[ns]\n",
      " 4   runtime_minutes  112232 non-null  float64       \n",
      " 5   genres           112232 non-null  object        \n",
      "dtypes: datetime64[ns](1), float64(1), object(4)\n",
      "memory usage: 6.0+ MB\n"
     ]
    }
   ],
   "source": [
    "#Changing the data type\n",
    "movie_basics['start_year'] = pd.to_datetime(movie_basics['start_year'])\n",
    "movie_basics.info()"
   ]
  },
  {
   "cell_type": "code",
   "execution_count": 20,
   "metadata": {},
   "outputs": [
    {
     "data": {
      "text/plain": [
       "0"
      ]
     },
     "execution_count": 20,
     "metadata": {},
     "output_type": "execute_result"
    }
   ],
   "source": [
    "#Checking for duplicates\n",
    "movie_basics.duplicated().sum()"
   ]
  },
  {
   "cell_type": "markdown",
   "metadata": {},
   "source": [
    "There are no null values or duplicates in the movie_ratings table"
   ]
  },
  {
   "cell_type": "code",
   "execution_count": 21,
   "metadata": {},
   "outputs": [
    {
     "data": {
      "text/plain": [
       "movie_id         0\n",
       "averagerating    0\n",
       "numvotes         0\n",
       "dtype: int64"
      ]
     },
     "execution_count": 21,
     "metadata": {},
     "output_type": "execute_result"
    }
   ],
   "source": [
    "movie_ratings.isnull().sum()"
   ]
  },
  {
   "cell_type": "markdown",
   "metadata": {},
   "source": [
    "movie_gross"
   ]
  },
  {
   "cell_type": "code",
   "execution_count": 22,
   "metadata": {},
   "outputs": [
    {
     "data": {
      "text/plain": [
       "title                0\n",
       "studio               5\n",
       "domestic_gross      28\n",
       "foreign_gross     1350\n",
       "year                 0\n",
       "dtype: int64"
      ]
     },
     "execution_count": 22,
     "metadata": {},
     "output_type": "execute_result"
    }
   ],
   "source": [
    "#Checking for null values in movie_gross data\n",
    "movie_gross.isnull().sum()\n"
   ]
  },
  {
   "cell_type": "markdown",
   "metadata": {},
   "source": [
    "The foreign_gross column has 39% null values in the data. Instead of dropping all the values which could reduce the significance of our data , we can replace the null values with the median.\n",
    "The median value is a good choice because it is least likely to influence the distribution of the dataset overall."
   ]
  },
  {
   "cell_type": "code",
   "execution_count": 23,
   "metadata": {},
   "outputs": [],
   "source": [
    "# Convert to float\n",
    "# Replace commas with an empty string, convert to float, and fill missing values with the median\n",
    "movie_gross['foreign_gross'] = movie_gross['foreign_gross'].str.replace(',', '').astype(float)\n",
    "movie_gross['foreign_gross'].fillna(movie_gross['foreign_gross'].median(), inplace=True)\n"
   ]
  },
  {
   "cell_type": "code",
   "execution_count": 24,
   "metadata": {},
   "outputs": [
    {
     "data": {
      "text/plain": [
       "0"
      ]
     },
     "execution_count": 24,
     "metadata": {},
     "output_type": "execute_result"
    }
   ],
   "source": [
    "movie_gross.duplicated().sum()"
   ]
  },
  {
   "cell_type": "code",
   "execution_count": 25,
   "metadata": {},
   "outputs": [
    {
     "data": {
      "text/plain": [
       "(3387, 5)"
      ]
     },
     "execution_count": 25,
     "metadata": {},
     "output_type": "execute_result"
    }
   ],
   "source": [
    "movie_gross.shape"
   ]
  },
  {
   "cell_type": "code",
   "execution_count": 26,
   "metadata": {},
   "outputs": [
    {
     "data": {
      "text/plain": [
       "(3356, 5)"
      ]
     },
     "execution_count": 26,
     "metadata": {},
     "output_type": "execute_result"
    }
   ],
   "source": [
    "#dropping all the null values\n",
    "movie_gross = movie_gross.dropna()\n",
    "movie_gross.shape"
   ]
  },
  {
   "cell_type": "code",
   "execution_count": 27,
   "metadata": {},
   "outputs": [
    {
     "name": "stdout",
     "output_type": "stream",
     "text": [
      "<class 'pandas.core.frame.DataFrame'>\n",
      "Int64Index: 3356 entries, 0 to 3386\n",
      "Data columns (total 5 columns):\n",
      " #   Column          Non-Null Count  Dtype         \n",
      "---  ------          --------------  -----         \n",
      " 0   title           3356 non-null   object        \n",
      " 1   studio          3356 non-null   object        \n",
      " 2   domestic_gross  3356 non-null   float64       \n",
      " 3   foreign_gross   3356 non-null   float64       \n",
      " 4   year            3356 non-null   datetime64[ns]\n",
      "dtypes: datetime64[ns](1), float64(2), object(2)\n",
      "memory usage: 157.3+ KB\n"
     ]
    }
   ],
   "source": [
    "#checking the data types\n",
    "#Changing the data type of the column year from int to datetime.\n",
    "movie_gross['year'] =  pd.to_datetime(movie_gross['year'])\n",
    "movie_gross.info()"
   ]
  },
  {
   "cell_type": "markdown",
   "metadata": {},
   "source": [
    "Checking for data inconsistencies"
   ]
  },
  {
   "cell_type": "code",
   "execution_count": 28,
   "metadata": {},
   "outputs": [
    {
     "name": "stdout",
     "output_type": "stream",
     "text": [
      "       domestic_gross  foreign_gross\n",
      "count    3.356000e+03   3.356000e+03\n",
      "mean     2.877149e+07   5.284196e+07\n",
      "std      6.700694e+07   1.104539e+08\n",
      "min      1.000000e+02   6.000000e+02\n",
      "25%      1.200000e+05   1.220000e+07\n",
      "50%      1.400000e+06   1.870000e+07\n",
      "75%      2.795000e+07   2.970000e+07\n",
      "max      9.367000e+08   9.605000e+08\n",
      "       runtime_minutes\n",
      "count    112232.000000\n",
      "mean         86.261556\n",
      "std         167.896646\n",
      "min           1.000000\n",
      "25%          70.000000\n",
      "50%          87.000000\n",
      "75%          99.000000\n",
      "max       51420.000000\n",
      "       averagerating      numvotes\n",
      "count   73856.000000  7.385600e+04\n",
      "mean        6.332729  3.523662e+03\n",
      "std         1.474978  3.029402e+04\n",
      "min         1.000000  5.000000e+00\n",
      "25%         5.500000  1.400000e+01\n",
      "50%         6.500000  4.900000e+01\n",
      "75%         7.400000  2.820000e+02\n",
      "max        10.000000  1.841066e+06\n"
     ]
    }
   ],
   "source": [
    "print(movie_gross.describe())\n",
    "print(movie_basics.describe())\n",
    "print (movie_ratings.describe())"
   ]
  },
  {
   "cell_type": "markdown",
   "metadata": {},
   "source": [
    "### Merging Datasets"
   ]
  },
  {
   "cell_type": "code",
   "execution_count": 29,
   "metadata": {},
   "outputs": [
    {
     "data": {
      "text/html": [
       "<div>\n",
       "<style scoped>\n",
       "    .dataframe tbody tr th:only-of-type {\n",
       "        vertical-align: middle;\n",
       "    }\n",
       "\n",
       "    .dataframe tbody tr th {\n",
       "        vertical-align: top;\n",
       "    }\n",
       "\n",
       "    .dataframe thead th {\n",
       "        text-align: right;\n",
       "    }\n",
       "</style>\n",
       "<table border=\"1\" class=\"dataframe\">\n",
       "  <thead>\n",
       "    <tr style=\"text-align: right;\">\n",
       "      <th></th>\n",
       "      <th>movie_id</th>\n",
       "      <th>title</th>\n",
       "      <th>start_year</th>\n",
       "      <th>runtime_minutes</th>\n",
       "      <th>genres</th>\n",
       "      <th>averagerating</th>\n",
       "      <th>numvotes</th>\n",
       "    </tr>\n",
       "  </thead>\n",
       "  <tbody>\n",
       "    <tr>\n",
       "      <th>0</th>\n",
       "      <td>tt0063540</td>\n",
       "      <td>Sunghursh</td>\n",
       "      <td>2013</td>\n",
       "      <td>175.0</td>\n",
       "      <td>Action,Crime,Drama</td>\n",
       "      <td>7.0</td>\n",
       "      <td>77</td>\n",
       "    </tr>\n",
       "    <tr>\n",
       "      <th>1</th>\n",
       "      <td>tt0066787</td>\n",
       "      <td>One Day Before the Rainy Season</td>\n",
       "      <td>2019</td>\n",
       "      <td>114.0</td>\n",
       "      <td>Biography,Drama</td>\n",
       "      <td>7.2</td>\n",
       "      <td>43</td>\n",
       "    </tr>\n",
       "    <tr>\n",
       "      <th>2</th>\n",
       "      <td>tt0069049</td>\n",
       "      <td>The Other Side of the Wind</td>\n",
       "      <td>2018</td>\n",
       "      <td>122.0</td>\n",
       "      <td>Drama</td>\n",
       "      <td>6.9</td>\n",
       "      <td>4517</td>\n",
       "    </tr>\n",
       "    <tr>\n",
       "      <th>3</th>\n",
       "      <td>tt0069204</td>\n",
       "      <td>Sabse Bada Sukh</td>\n",
       "      <td>2018</td>\n",
       "      <td>NaN</td>\n",
       "      <td>Comedy,Drama</td>\n",
       "      <td>6.1</td>\n",
       "      <td>13</td>\n",
       "    </tr>\n",
       "    <tr>\n",
       "      <th>4</th>\n",
       "      <td>tt0100275</td>\n",
       "      <td>The Wandering Soap Opera</td>\n",
       "      <td>2017</td>\n",
       "      <td>80.0</td>\n",
       "      <td>Comedy,Drama,Fantasy</td>\n",
       "      <td>6.5</td>\n",
       "      <td>119</td>\n",
       "    </tr>\n",
       "    <tr>\n",
       "      <th>...</th>\n",
       "      <td>...</td>\n",
       "      <td>...</td>\n",
       "      <td>...</td>\n",
       "      <td>...</td>\n",
       "      <td>...</td>\n",
       "      <td>...</td>\n",
       "      <td>...</td>\n",
       "    </tr>\n",
       "    <tr>\n",
       "      <th>73851</th>\n",
       "      <td>tt9913084</td>\n",
       "      <td>Diabolik sono io</td>\n",
       "      <td>2019</td>\n",
       "      <td>75.0</td>\n",
       "      <td>Documentary</td>\n",
       "      <td>6.2</td>\n",
       "      <td>6</td>\n",
       "    </tr>\n",
       "    <tr>\n",
       "      <th>73852</th>\n",
       "      <td>tt9914286</td>\n",
       "      <td>Sokagin Çocuklari</td>\n",
       "      <td>2019</td>\n",
       "      <td>98.0</td>\n",
       "      <td>Drama,Family</td>\n",
       "      <td>8.7</td>\n",
       "      <td>136</td>\n",
       "    </tr>\n",
       "    <tr>\n",
       "      <th>73853</th>\n",
       "      <td>tt9914642</td>\n",
       "      <td>Albatross</td>\n",
       "      <td>2017</td>\n",
       "      <td>NaN</td>\n",
       "      <td>Documentary</td>\n",
       "      <td>8.5</td>\n",
       "      <td>8</td>\n",
       "    </tr>\n",
       "    <tr>\n",
       "      <th>73854</th>\n",
       "      <td>tt9914942</td>\n",
       "      <td>La vida sense la Sara Amat</td>\n",
       "      <td>2019</td>\n",
       "      <td>NaN</td>\n",
       "      <td>None</td>\n",
       "      <td>6.6</td>\n",
       "      <td>5</td>\n",
       "    </tr>\n",
       "    <tr>\n",
       "      <th>73855</th>\n",
       "      <td>tt9916160</td>\n",
       "      <td>Drømmeland</td>\n",
       "      <td>2019</td>\n",
       "      <td>72.0</td>\n",
       "      <td>Documentary</td>\n",
       "      <td>6.5</td>\n",
       "      <td>11</td>\n",
       "    </tr>\n",
       "  </tbody>\n",
       "</table>\n",
       "<p>73856 rows × 7 columns</p>\n",
       "</div>"
      ],
      "text/plain": [
       "        movie_id                            title  start_year  \\\n",
       "0      tt0063540                        Sunghursh        2013   \n",
       "1      tt0066787  One Day Before the Rainy Season        2019   \n",
       "2      tt0069049       The Other Side of the Wind        2018   \n",
       "3      tt0069204                  Sabse Bada Sukh        2018   \n",
       "4      tt0100275         The Wandering Soap Opera        2017   \n",
       "...          ...                              ...         ...   \n",
       "73851  tt9913084                 Diabolik sono io        2019   \n",
       "73852  tt9914286                Sokagin Çocuklari        2019   \n",
       "73853  tt9914642                        Albatross        2017   \n",
       "73854  tt9914942       La vida sense la Sara Amat        2019   \n",
       "73855  tt9916160                       Drømmeland        2019   \n",
       "\n",
       "       runtime_minutes                genres  averagerating  numvotes  \n",
       "0                175.0    Action,Crime,Drama            7.0        77  \n",
       "1                114.0       Biography,Drama            7.2        43  \n",
       "2                122.0                 Drama            6.9      4517  \n",
       "3                  NaN          Comedy,Drama            6.1        13  \n",
       "4                 80.0  Comedy,Drama,Fantasy            6.5       119  \n",
       "...                ...                   ...            ...       ...  \n",
       "73851             75.0           Documentary            6.2         6  \n",
       "73852             98.0          Drama,Family            8.7       136  \n",
       "73853              NaN           Documentary            8.5         8  \n",
       "73854              NaN                  None            6.6         5  \n",
       "73855             72.0           Documentary            6.5        11  \n",
       "\n",
       "[73856 rows x 7 columns]"
      ]
     },
     "execution_count": 29,
     "metadata": {},
     "output_type": "execute_result"
    }
   ],
   "source": [
    "q = \"\"\"\n",
    "SELECT mb.movie_id,\n",
    "mb.primary_title AS title,\n",
    "mb.start_year,\n",
    "mb.runtime_minutes,\n",
    "mb.genres,\n",
    "mr.averagerating,\n",
    "mr.numvotes\n",
    "FROM movie_basics AS mb\n",
    "JOIN movie_ratings AS mr \n",
    "ON mb.movie_id = mr.movie_id;\n",
    "\"\"\"\n",
    "df = pd.read_sql(q, conn)\n",
    "df\n",
    "\n",
    "    "
   ]
  },
  {
   "cell_type": "code",
   "execution_count": 30,
   "metadata": {},
   "outputs": [
    {
     "data": {
      "text/plain": [
       "pandas.core.frame.DataFrame"
      ]
     },
     "execution_count": 30,
     "metadata": {},
     "output_type": "execute_result"
    }
   ],
   "source": [
    "type(df)"
   ]
  },
  {
   "cell_type": "code",
   "execution_count": 31,
   "metadata": {},
   "outputs": [
    {
     "data": {
      "text/plain": [
       "(65720, 7)"
      ]
     },
     "execution_count": 31,
     "metadata": {},
     "output_type": "execute_result"
    }
   ],
   "source": [
    "df.isnull().sum()\n",
    "df.shape\n",
    "df = df.dropna()\n",
    "df.shape"
   ]
  },
  {
   "cell_type": "code",
   "execution_count": 32,
   "metadata": {},
   "outputs": [],
   "source": [
    "conn.close()"
   ]
  },
  {
   "cell_type": "markdown",
   "metadata": {},
   "source": [
    "# Exploratory Data Analysis (EDA)"
   ]
  },
  {
   "cell_type": "markdown",
   "metadata": {},
   "source": [
    " ### Univariate Analysis\n",
    "\n",
    "IT gives us the charesteristics or behaviour of an individual variable."
   ]
  },
  {
   "cell_type": "code",
   "execution_count": 33,
   "metadata": {},
   "outputs": [
    {
     "data": {
      "text/html": [
       "<div>\n",
       "<style scoped>\n",
       "    .dataframe tbody tr th:only-of-type {\n",
       "        vertical-align: middle;\n",
       "    }\n",
       "\n",
       "    .dataframe tbody tr th {\n",
       "        vertical-align: top;\n",
       "    }\n",
       "\n",
       "    .dataframe thead th {\n",
       "        text-align: right;\n",
       "    }\n",
       "</style>\n",
       "<table border=\"1\" class=\"dataframe\">\n",
       "  <thead>\n",
       "    <tr style=\"text-align: right;\">\n",
       "      <th></th>\n",
       "      <th>start_year</th>\n",
       "      <th>runtime_minutes</th>\n",
       "      <th>averagerating</th>\n",
       "      <th>numvotes</th>\n",
       "    </tr>\n",
       "  </thead>\n",
       "  <tbody>\n",
       "    <tr>\n",
       "      <th>count</th>\n",
       "      <td>65720.000000</td>\n",
       "      <td>65720.000000</td>\n",
       "      <td>65720.000000</td>\n",
       "      <td>6.572000e+04</td>\n",
       "    </tr>\n",
       "    <tr>\n",
       "      <th>mean</th>\n",
       "      <td>2014.258065</td>\n",
       "      <td>94.732273</td>\n",
       "      <td>6.320902</td>\n",
       "      <td>3.954674e+03</td>\n",
       "    </tr>\n",
       "    <tr>\n",
       "      <th>std</th>\n",
       "      <td>2.600143</td>\n",
       "      <td>209.377017</td>\n",
       "      <td>1.458878</td>\n",
       "      <td>3.208823e+04</td>\n",
       "    </tr>\n",
       "    <tr>\n",
       "      <th>min</th>\n",
       "      <td>2010.000000</td>\n",
       "      <td>3.000000</td>\n",
       "      <td>1.000000</td>\n",
       "      <td>5.000000e+00</td>\n",
       "    </tr>\n",
       "    <tr>\n",
       "      <th>25%</th>\n",
       "      <td>2012.000000</td>\n",
       "      <td>81.000000</td>\n",
       "      <td>5.500000</td>\n",
       "      <td>1.600000e+01</td>\n",
       "    </tr>\n",
       "    <tr>\n",
       "      <th>50%</th>\n",
       "      <td>2014.000000</td>\n",
       "      <td>91.000000</td>\n",
       "      <td>6.500000</td>\n",
       "      <td>6.200000e+01</td>\n",
       "    </tr>\n",
       "    <tr>\n",
       "      <th>75%</th>\n",
       "      <td>2016.000000</td>\n",
       "      <td>104.000000</td>\n",
       "      <td>7.300000</td>\n",
       "      <td>3.520000e+02</td>\n",
       "    </tr>\n",
       "    <tr>\n",
       "      <th>max</th>\n",
       "      <td>2019.000000</td>\n",
       "      <td>51420.000000</td>\n",
       "      <td>10.000000</td>\n",
       "      <td>1.841066e+06</td>\n",
       "    </tr>\n",
       "  </tbody>\n",
       "</table>\n",
       "</div>"
      ],
      "text/plain": [
       "         start_year  runtime_minutes  averagerating      numvotes\n",
       "count  65720.000000     65720.000000   65720.000000  6.572000e+04\n",
       "mean    2014.258065        94.732273       6.320902  3.954674e+03\n",
       "std        2.600143       209.377017       1.458878  3.208823e+04\n",
       "min     2010.000000         3.000000       1.000000  5.000000e+00\n",
       "25%     2012.000000        81.000000       5.500000  1.600000e+01\n",
       "50%     2014.000000        91.000000       6.500000  6.200000e+01\n",
       "75%     2016.000000       104.000000       7.300000  3.520000e+02\n",
       "max     2019.000000     51420.000000      10.000000  1.841066e+06"
      ]
     },
     "execution_count": 33,
     "metadata": {},
     "output_type": "execute_result"
    }
   ],
   "source": [
    "df.describe()"
   ]
  },
  {
   "cell_type": "code",
   "execution_count": 34,
   "metadata": {},
   "outputs": [
    {
     "data": {
      "image/png": "[encoded data removed]",
      "text/plain": [
       "<Figure size 864x360 with 4 Axes>"
      ]
     },
     "metadata": {
      "needs_background": "light"
     },
     "output_type": "display_data"
    }
   ],
   "source": [
    "# plotting histograms to visualize patterns in the data\n",
    "df.hist(figsize = (12,5), bins= 24)\n",
    "plt.show()"
   ]
  },
  {
   "cell_type": "code",
   "execution_count": 35,
   "metadata": {},
   "outputs": [
    {
     "data": {
      "text/plain": [
       "Text(0.5, 1.0, 'Foreign Gross')"
      ]
     },
     "execution_count": 35,
     "metadata": {},
     "output_type": "execute_result"
    },
    {
     "data": {
      "image/png": "[encoded data removed]",
      "text/plain": [
       "<Figure size 432x288 with 1 Axes>"
      ]
     },
     "metadata": {
      "needs_background": "light"
     },
     "output_type": "display_data"
    }
   ],
   "source": [
    "hist_chart_title = \"Foreign Gross\"\n",
    "\n",
    "fig, ax = plt.subplots()\n",
    "\n",
    "# YOUR CODE HERE\n",
    "foreign = movie_gross['foreign_gross']\n",
    "ax.hist(foreign, color='Orange')\n",
    "ax.set_xlabel('foreign sales gross')\n",
    "ax.set_ylabel(\"frequency\")\n",
    "ax.set_title(hist_chart_title)\n"
   ]
  },
  {
   "cell_type": "markdown",
   "metadata": {},
   "source": [
    "The histogram above shows the distribution of foreign sales.It has a positive skew. The mean and median is greater than the mode"
   ]
  },
  {
   "cell_type": "code",
   "execution_count": 36,
   "metadata": {},
   "outputs": [
    {
     "data": {
      "text/plain": [
       "Text(0.5, 1.0, 'Average Ratings')"
      ]
     },
     "execution_count": 36,
     "metadata": {},
     "output_type": "execute_result"
    },
    {
     "data": {
      "image/png": "[encoded data removed]",
      "text/plain": [
       "<Figure size 432x288 with 1 Axes>"
      ]
     },
     "metadata": {
      "needs_background": "light"
     },
     "output_type": "display_data"
    }
   ],
   "source": [
    "hist_chart_title = \"Average Ratings\"\n",
    "\n",
    "fig, ax = plt.subplots()\n",
    "\n",
    "# YOUR CODE HERE\n",
    "foreigns = movie_ratings['averagerating']\n",
    "ax.hist(foreigns)\n",
    "ax.set_xlabel('Average Rating')\n",
    "ax.set_ylabel(\"frequency\")\n",
    "ax.set_title(hist_chart_title)\n"
   ]
  },
  {
   "cell_type": "markdown",
   "metadata": {},
   "source": [
    "The histogragh above shows the average ratings.\n",
    "The data is has a normal distribution"
   ]
  },
  {
   "cell_type": "markdown",
   "metadata": {},
   "source": [
    "Most movies are rated 7. Majority of the movies released are well accepted by the audience."
   ]
  },
  {
   "cell_type": "markdown",
   "metadata": {},
   "source": [
    "##### Measures of central tendency"
   ]
  },
  {
   "cell_type": "code",
   "execution_count": 37,
   "metadata": {},
   "outputs": [
    {
     "name": "stdout",
     "output_type": "stream",
     "text": [
      "Mean: 6.332728552859619\n",
      "Median: 6.5\n",
      "Mode: 0    7.0\n",
      "dtype: float64\n"
     ]
    }
   ],
   "source": [
    "print('Mean:', foreigns.mean())\n",
    "print('Median:',foreigns.median())\n",
    "print('Mode:',foreigns.mode())"
   ]
  },
  {
   "cell_type": "markdown",
   "metadata": {},
   "source": [
    "Merging all 3 datasets to create a new dataframe."
   ]
  },
  {
   "cell_type": "code",
   "execution_count": 38,
   "metadata": {},
   "outputs": [
    {
     "data": {
      "text/html": [
       "<div>\n",
       "<style scoped>\n",
       "    .dataframe tbody tr th:only-of-type {\n",
       "        vertical-align: middle;\n",
       "    }\n",
       "\n",
       "    .dataframe tbody tr th {\n",
       "        vertical-align: top;\n",
       "    }\n",
       "\n",
       "    .dataframe thead th {\n",
       "        text-align: right;\n",
       "    }\n",
       "</style>\n",
       "<table border=\"1\" class=\"dataframe\">\n",
       "  <thead>\n",
       "    <tr style=\"text-align: right;\">\n",
       "      <th></th>\n",
       "      <th>movie_id</th>\n",
       "      <th>title</th>\n",
       "      <th>start_year</th>\n",
       "      <th>runtime_minutes</th>\n",
       "      <th>genres</th>\n",
       "      <th>averagerating</th>\n",
       "      <th>numvotes</th>\n",
       "      <th>studio</th>\n",
       "      <th>domestic_gross</th>\n",
       "      <th>foreign_gross</th>\n",
       "      <th>year</th>\n",
       "    </tr>\n",
       "  </thead>\n",
       "  <tbody>\n",
       "    <tr>\n",
       "      <th>0</th>\n",
       "      <td>tt0315642</td>\n",
       "      <td>Wazir</td>\n",
       "      <td>2016</td>\n",
       "      <td>103.0</td>\n",
       "      <td>Action,Crime,Drama</td>\n",
       "      <td>7.1</td>\n",
       "      <td>15378</td>\n",
       "      <td>Relbig.</td>\n",
       "      <td>1100000.0</td>\n",
       "      <td>18700000.0</td>\n",
       "      <td>1970-01-01 00:00:00.000002016</td>\n",
       "    </tr>\n",
       "    <tr>\n",
       "      <th>1</th>\n",
       "      <td>tt0337692</td>\n",
       "      <td>On the Road</td>\n",
       "      <td>2012</td>\n",
       "      <td>124.0</td>\n",
       "      <td>Adventure,Drama,Romance</td>\n",
       "      <td>6.1</td>\n",
       "      <td>37886</td>\n",
       "      <td>IFC</td>\n",
       "      <td>744000.0</td>\n",
       "      <td>8000000.0</td>\n",
       "      <td>1970-01-01 00:00:00.000002012</td>\n",
       "    </tr>\n",
       "    <tr>\n",
       "      <th>2</th>\n",
       "      <td>tt4339118</td>\n",
       "      <td>On the Road</td>\n",
       "      <td>2014</td>\n",
       "      <td>89.0</td>\n",
       "      <td>Drama</td>\n",
       "      <td>6.0</td>\n",
       "      <td>6</td>\n",
       "      <td>IFC</td>\n",
       "      <td>744000.0</td>\n",
       "      <td>8000000.0</td>\n",
       "      <td>1970-01-01 00:00:00.000002012</td>\n",
       "    </tr>\n",
       "    <tr>\n",
       "      <th>3</th>\n",
       "      <td>tt5647250</td>\n",
       "      <td>On the Road</td>\n",
       "      <td>2016</td>\n",
       "      <td>121.0</td>\n",
       "      <td>Drama</td>\n",
       "      <td>5.7</td>\n",
       "      <td>127</td>\n",
       "      <td>IFC</td>\n",
       "      <td>744000.0</td>\n",
       "      <td>8000000.0</td>\n",
       "      <td>1970-01-01 00:00:00.000002012</td>\n",
       "    </tr>\n",
       "    <tr>\n",
       "      <th>4</th>\n",
       "      <td>tt0359950</td>\n",
       "      <td>The Secret Life of Walter Mitty</td>\n",
       "      <td>2013</td>\n",
       "      <td>114.0</td>\n",
       "      <td>Adventure,Comedy,Drama</td>\n",
       "      <td>7.3</td>\n",
       "      <td>275300</td>\n",
       "      <td>Fox</td>\n",
       "      <td>58200000.0</td>\n",
       "      <td>129900000.0</td>\n",
       "      <td>1970-01-01 00:00:00.000002013</td>\n",
       "    </tr>\n",
       "    <tr>\n",
       "      <th>...</th>\n",
       "      <td>...</td>\n",
       "      <td>...</td>\n",
       "      <td>...</td>\n",
       "      <td>...</td>\n",
       "      <td>...</td>\n",
       "      <td>...</td>\n",
       "      <td>...</td>\n",
       "      <td>...</td>\n",
       "      <td>...</td>\n",
       "      <td>...</td>\n",
       "      <td>...</td>\n",
       "    </tr>\n",
       "    <tr>\n",
       "      <th>2947</th>\n",
       "      <td>tt8331988</td>\n",
       "      <td>The Chambermaid</td>\n",
       "      <td>2018</td>\n",
       "      <td>102.0</td>\n",
       "      <td>Drama</td>\n",
       "      <td>7.1</td>\n",
       "      <td>147</td>\n",
       "      <td>FM</td>\n",
       "      <td>300.0</td>\n",
       "      <td>18700000.0</td>\n",
       "      <td>1970-01-01 00:00:00.000002015</td>\n",
       "    </tr>\n",
       "    <tr>\n",
       "      <th>2948</th>\n",
       "      <td>tt8404272</td>\n",
       "      <td>How Long Will I Love U</td>\n",
       "      <td>2018</td>\n",
       "      <td>101.0</td>\n",
       "      <td>Romance</td>\n",
       "      <td>6.5</td>\n",
       "      <td>607</td>\n",
       "      <td>WGUSA</td>\n",
       "      <td>747000.0</td>\n",
       "      <td>82100000.0</td>\n",
       "      <td>1970-01-01 00:00:00.000002018</td>\n",
       "    </tr>\n",
       "    <tr>\n",
       "      <th>2949</th>\n",
       "      <td>tt8427036</td>\n",
       "      <td>Helicopter Eela</td>\n",
       "      <td>2018</td>\n",
       "      <td>135.0</td>\n",
       "      <td>Drama</td>\n",
       "      <td>5.4</td>\n",
       "      <td>673</td>\n",
       "      <td>Eros</td>\n",
       "      <td>72000.0</td>\n",
       "      <td>18700000.0</td>\n",
       "      <td>1970-01-01 00:00:00.000002018</td>\n",
       "    </tr>\n",
       "    <tr>\n",
       "      <th>2950</th>\n",
       "      <td>tt9078374</td>\n",
       "      <td>Last Letter</td>\n",
       "      <td>2018</td>\n",
       "      <td>114.0</td>\n",
       "      <td>Drama,Romance</td>\n",
       "      <td>6.4</td>\n",
       "      <td>322</td>\n",
       "      <td>CL</td>\n",
       "      <td>181000.0</td>\n",
       "      <td>18700000.0</td>\n",
       "      <td>1970-01-01 00:00:00.000002018</td>\n",
       "    </tr>\n",
       "    <tr>\n",
       "      <th>2951</th>\n",
       "      <td>tt9151704</td>\n",
       "      <td>Burn the Stage: The Movie</td>\n",
       "      <td>2018</td>\n",
       "      <td>84.0</td>\n",
       "      <td>Documentary,Music</td>\n",
       "      <td>8.8</td>\n",
       "      <td>2067</td>\n",
       "      <td>Trafalgar</td>\n",
       "      <td>4200000.0</td>\n",
       "      <td>16100000.0</td>\n",
       "      <td>1970-01-01 00:00:00.000002018</td>\n",
       "    </tr>\n",
       "  </tbody>\n",
       "</table>\n",
       "<p>2952 rows × 11 columns</p>\n",
       "</div>"
      ],
      "text/plain": [
       "       movie_id                            title  start_year  runtime_minutes  \\\n",
       "0     tt0315642                            Wazir        2016            103.0   \n",
       "1     tt0337692                      On the Road        2012            124.0   \n",
       "2     tt4339118                      On the Road        2014             89.0   \n",
       "3     tt5647250                      On the Road        2016            121.0   \n",
       "4     tt0359950  The Secret Life of Walter Mitty        2013            114.0   \n",
       "...         ...                              ...         ...              ...   \n",
       "2947  tt8331988                  The Chambermaid        2018            102.0   \n",
       "2948  tt8404272           How Long Will I Love U        2018            101.0   \n",
       "2949  tt8427036                  Helicopter Eela        2018            135.0   \n",
       "2950  tt9078374                      Last Letter        2018            114.0   \n",
       "2951  tt9151704        Burn the Stage: The Movie        2018             84.0   \n",
       "\n",
       "                       genres  averagerating  numvotes     studio  \\\n",
       "0          Action,Crime,Drama            7.1     15378    Relbig.   \n",
       "1     Adventure,Drama,Romance            6.1     37886        IFC   \n",
       "2                       Drama            6.0         6        IFC   \n",
       "3                       Drama            5.7       127        IFC   \n",
       "4      Adventure,Comedy,Drama            7.3    275300        Fox   \n",
       "...                       ...            ...       ...        ...   \n",
       "2947                    Drama            7.1       147         FM   \n",
       "2948                  Romance            6.5       607      WGUSA   \n",
       "2949                    Drama            5.4       673       Eros   \n",
       "2950            Drama,Romance            6.4       322         CL   \n",
       "2951        Documentary,Music            8.8      2067  Trafalgar   \n",
       "\n",
       "      domestic_gross  foreign_gross                          year  \n",
       "0          1100000.0     18700000.0 1970-01-01 00:00:00.000002016  \n",
       "1           744000.0      8000000.0 1970-01-01 00:00:00.000002012  \n",
       "2           744000.0      8000000.0 1970-01-01 00:00:00.000002012  \n",
       "3           744000.0      8000000.0 1970-01-01 00:00:00.000002012  \n",
       "4         58200000.0    129900000.0 1970-01-01 00:00:00.000002013  \n",
       "...              ...            ...                           ...  \n",
       "2947           300.0     18700000.0 1970-01-01 00:00:00.000002015  \n",
       "2948        747000.0     82100000.0 1970-01-01 00:00:00.000002018  \n",
       "2949         72000.0     18700000.0 1970-01-01 00:00:00.000002018  \n",
       "2950        181000.0     18700000.0 1970-01-01 00:00:00.000002018  \n",
       "2951       4200000.0     16100000.0 1970-01-01 00:00:00.000002018  \n",
       "\n",
       "[2952 rows x 11 columns]"
      ]
     },
     "execution_count": 38,
     "metadata": {},
     "output_type": "execute_result"
    }
   ],
   "source": [
    "#merge\n",
    "merged_df = pd.merge(df,movie_gross, on = 'title' ,how='inner')\n",
    "merged_df"
   ]
  },
  {
   "cell_type": "markdown",
   "metadata": {},
   "source": [
    "\n",
    "\n",
    "##### What is the relationship between type / combination of genre and average rating.\n"
   ]
  },
  {
   "cell_type": "code",
   "execution_count": 39,
   "metadata": {
    "scrolled": true
   },
   "outputs": [
    {
     "data": {
      "image/png": "[encoded data removed]",
      "text/plain": [
       "<Figure size 864x432 with 1 Axes>"
      ]
     },
     "metadata": {
      "needs_background": "light"
     },
     "output_type": "display_data"
    }
   ],
   "source": [
    "# Select the top 20 genres with the highest ratings that have 15000 or more votes.\n",
    "top_20_genres = df[df['numvotes']>=20000].groupby('genres').mean().sort_values(by='averagerating', ascending=False)[:20]\n",
    "top_20_genres\n",
    "\n",
    "# Extract the data for the chart\n",
    "genres = top_20_genres.index\n",
    "ratings = top_20_genres['averagerating']\n",
    "\n",
    "plt.figure(figsize=(12, 6))  \n",
    "plt.barh(genres, ratings, color='skyblue')  \n",
    "plt.xlabel('Average Rating')\n",
    "plt.ylabel('Genres')\n",
    "plt.title('Top 20 Genres with Highest Ratings')\n",
    "#plt.gca().invert_yaxis()  # Invert the y-axis to show the highest rating at the top\n",
    "plt.show()\n"
   ]
  },
  {
   "cell_type": "code",
   "execution_count": 40,
   "metadata": {},
   "outputs": [
    {
     "data": {
      "text/html": [
       "<div>\n",
       "<style scoped>\n",
       "    .dataframe tbody tr th:only-of-type {\n",
       "        vertical-align: middle;\n",
       "    }\n",
       "\n",
       "    .dataframe tbody tr th {\n",
       "        vertical-align: top;\n",
       "    }\n",
       "\n",
       "    .dataframe thead th {\n",
       "        text-align: right;\n",
       "    }\n",
       "</style>\n",
       "<table border=\"1\" class=\"dataframe\">\n",
       "  <thead>\n",
       "    <tr style=\"text-align: right;\">\n",
       "      <th></th>\n",
       "      <th>start_year</th>\n",
       "      <th>runtime_minutes</th>\n",
       "      <th>averagerating</th>\n",
       "      <th>numvotes</th>\n",
       "    </tr>\n",
       "    <tr>\n",
       "      <th>genres</th>\n",
       "      <th></th>\n",
       "      <th></th>\n",
       "      <th></th>\n",
       "      <th></th>\n",
       "    </tr>\n",
       "  </thead>\n",
       "  <tbody>\n",
       "    <tr>\n",
       "      <th>Biography,Documentary,Sport</th>\n",
       "      <td>2010.000000</td>\n",
       "      <td>106.000000</td>\n",
       "      <td>8.600000</td>\n",
       "      <td>55318.000000</td>\n",
       "    </tr>\n",
       "    <tr>\n",
       "      <th>Action,Drama,War</th>\n",
       "      <td>2016.333333</td>\n",
       "      <td>135.666667</td>\n",
       "      <td>8.500000</td>\n",
       "      <td>170951.000000</td>\n",
       "    </tr>\n",
       "    <tr>\n",
       "      <th>Comedy,Documentary</th>\n",
       "      <td>2014.000000</td>\n",
       "      <td>129.500000</td>\n",
       "      <td>8.350000</td>\n",
       "      <td>31528.500000</td>\n",
       "    </tr>\n",
       "    <tr>\n",
       "      <th>Adventure,Drama,Sci-Fi</th>\n",
       "      <td>2014.500000</td>\n",
       "      <td>156.500000</td>\n",
       "      <td>8.300000</td>\n",
       "      <td>989725.000000</td>\n",
       "    </tr>\n",
       "    <tr>\n",
       "      <th>Drama,Mystery,War</th>\n",
       "      <td>2010.000000</td>\n",
       "      <td>131.000000</td>\n",
       "      <td>8.300000</td>\n",
       "      <td>124156.000000</td>\n",
       "    </tr>\n",
       "    <tr>\n",
       "      <th>Documentary,News</th>\n",
       "      <td>2016.000000</td>\n",
       "      <td>96.000000</td>\n",
       "      <td>8.300000</td>\n",
       "      <td>23264.000000</td>\n",
       "    </tr>\n",
       "    <tr>\n",
       "      <th>Crime,Documentary</th>\n",
       "      <td>2011.000000</td>\n",
       "      <td>113.000000</td>\n",
       "      <td>8.250000</td>\n",
       "      <td>48209.500000</td>\n",
       "    </tr>\n",
       "    <tr>\n",
       "      <th>Documentary,Sport</th>\n",
       "      <td>2018.000000</td>\n",
       "      <td>100.000000</td>\n",
       "      <td>8.200000</td>\n",
       "      <td>32250.000000</td>\n",
       "    </tr>\n",
       "    <tr>\n",
       "      <th>Documentary,Drama</th>\n",
       "      <td>2013.000000</td>\n",
       "      <td>83.000000</td>\n",
       "      <td>8.100000</td>\n",
       "      <td>56582.000000</td>\n",
       "    </tr>\n",
       "    <tr>\n",
       "      <th>Comedy,Drama,Thriller</th>\n",
       "      <td>2014.000000</td>\n",
       "      <td>122.000000</td>\n",
       "      <td>8.100000</td>\n",
       "      <td>151123.000000</td>\n",
       "    </tr>\n",
       "    <tr>\n",
       "      <th>Biography,Documentary,Thriller</th>\n",
       "      <td>2014.000000</td>\n",
       "      <td>114.000000</td>\n",
       "      <td>8.100000</td>\n",
       "      <td>47994.000000</td>\n",
       "    </tr>\n",
       "    <tr>\n",
       "      <th>Drama,Music</th>\n",
       "      <td>2013.500000</td>\n",
       "      <td>105.000000</td>\n",
       "      <td>8.000000</td>\n",
       "      <td>370337.500000</td>\n",
       "    </tr>\n",
       "    <tr>\n",
       "      <th>Biography,Documentary,Music</th>\n",
       "      <td>2013.500000</td>\n",
       "      <td>107.000000</td>\n",
       "      <td>8.000000</td>\n",
       "      <td>51234.000000</td>\n",
       "    </tr>\n",
       "    <tr>\n",
       "      <th>Comedy,Crime,Documentary</th>\n",
       "      <td>2010.000000</td>\n",
       "      <td>87.000000</td>\n",
       "      <td>8.000000</td>\n",
       "      <td>58721.000000</td>\n",
       "    </tr>\n",
       "    <tr>\n",
       "      <th>Animation,Drama,Fantasy</th>\n",
       "      <td>2016.000000</td>\n",
       "      <td>107.000000</td>\n",
       "      <td>7.950000</td>\n",
       "      <td>102250.000000</td>\n",
       "    </tr>\n",
       "    <tr>\n",
       "      <th>Adventure,Animation,Drama</th>\n",
       "      <td>2014.000000</td>\n",
       "      <td>112.666667</td>\n",
       "      <td>7.933333</td>\n",
       "      <td>41029.666667</td>\n",
       "    </tr>\n",
       "    <tr>\n",
       "      <th>Documentary,Sport,Thriller</th>\n",
       "      <td>2017.000000</td>\n",
       "      <td>120.000000</td>\n",
       "      <td>7.900000</td>\n",
       "      <td>28979.000000</td>\n",
       "    </tr>\n",
       "    <tr>\n",
       "      <th>Animation,Drama,Romance</th>\n",
       "      <td>2014.500000</td>\n",
       "      <td>88.000000</td>\n",
       "      <td>7.900000</td>\n",
       "      <td>25229.500000</td>\n",
       "    </tr>\n",
       "    <tr>\n",
       "      <th>Documentary</th>\n",
       "      <td>2014.333333</td>\n",
       "      <td>99.000000</td>\n",
       "      <td>7.866667</td>\n",
       "      <td>29441.333333</td>\n",
       "    </tr>\n",
       "    <tr>\n",
       "      <th>Animation,Biography,Drama</th>\n",
       "      <td>2013.000000</td>\n",
       "      <td>126.000000</td>\n",
       "      <td>7.800000</td>\n",
       "      <td>60943.000000</td>\n",
       "    </tr>\n",
       "  </tbody>\n",
       "</table>\n",
       "</div>"
      ],
      "text/plain": [
       "                                 start_year  runtime_minutes  averagerating  \\\n",
       "genres                                                                        \n",
       "Biography,Documentary,Sport     2010.000000       106.000000       8.600000   \n",
       "Action,Drama,War                2016.333333       135.666667       8.500000   \n",
       "Comedy,Documentary              2014.000000       129.500000       8.350000   \n",
       "Adventure,Drama,Sci-Fi          2014.500000       156.500000       8.300000   \n",
       "Drama,Mystery,War               2010.000000       131.000000       8.300000   \n",
       "Documentary,News                2016.000000        96.000000       8.300000   \n",
       "Crime,Documentary               2011.000000       113.000000       8.250000   \n",
       "Documentary,Sport               2018.000000       100.000000       8.200000   \n",
       "Documentary,Drama               2013.000000        83.000000       8.100000   \n",
       "Comedy,Drama,Thriller           2014.000000       122.000000       8.100000   \n",
       "Biography,Documentary,Thriller  2014.000000       114.000000       8.100000   \n",
       "Drama,Music                     2013.500000       105.000000       8.000000   \n",
       "Biography,Documentary,Music     2013.500000       107.000000       8.000000   \n",
       "Comedy,Crime,Documentary        2010.000000        87.000000       8.000000   \n",
       "Animation,Drama,Fantasy         2016.000000       107.000000       7.950000   \n",
       "Adventure,Animation,Drama       2014.000000       112.666667       7.933333   \n",
       "Documentary,Sport,Thriller      2017.000000       120.000000       7.900000   \n",
       "Animation,Drama,Romance         2014.500000        88.000000       7.900000   \n",
       "Documentary                     2014.333333        99.000000       7.866667   \n",
       "Animation,Biography,Drama       2013.000000       126.000000       7.800000   \n",
       "\n",
       "                                     numvotes  \n",
       "genres                                         \n",
       "Biography,Documentary,Sport      55318.000000  \n",
       "Action,Drama,War                170951.000000  \n",
       "Comedy,Documentary               31528.500000  \n",
       "Adventure,Drama,Sci-Fi          989725.000000  \n",
       "Drama,Mystery,War               124156.000000  \n",
       "Documentary,News                 23264.000000  \n",
       "Crime,Documentary                48209.500000  \n",
       "Documentary,Sport                32250.000000  \n",
       "Documentary,Drama                56582.000000  \n",
       "Comedy,Drama,Thriller           151123.000000  \n",
       "Biography,Documentary,Thriller   47994.000000  \n",
       "Drama,Music                     370337.500000  \n",
       "Biography,Documentary,Music      51234.000000  \n",
       "Comedy,Crime,Documentary         58721.000000  \n",
       "Animation,Drama,Fantasy         102250.000000  \n",
       "Adventure,Animation,Drama        41029.666667  \n",
       "Documentary,Sport,Thriller       28979.000000  \n",
       "Animation,Drama,Romance          25229.500000  \n",
       "Documentary                      29441.333333  \n",
       "Animation,Biography,Drama        60943.000000  "
      ]
     },
     "execution_count": 40,
     "metadata": {},
     "output_type": "execute_result"
    }
   ],
   "source": [
    "top_20_genres"
   ]
  },
  {
   "cell_type": "markdown",
   "metadata": {},
   "source": [
    "Biography,Documentary,Sport combination has the highest rating although has fewer number of votes. However, Adventure,Drama,Sci-Fi has the highest number of votes although it doesn't have the highest average ratings. This suggests that it is a genre that is most popular and loved by the audience."
   ]
  },
  {
   "cell_type": "markdown",
   "metadata": {},
   "source": [
    "The above graph shows the top 20 genres that have more than 20,000 votes with the highest ratings."
   ]
  },
  {
   "cell_type": "markdown",
   "metadata": {},
   "source": [
    "##### Which genres have the most number of votes"
   ]
  },
  {
   "cell_type": "code",
   "execution_count": 41,
   "metadata": {},
   "outputs": [
    {
     "data": {
      "text/html": [
       "<div>\n",
       "<style scoped>\n",
       "    .dataframe tbody tr th:only-of-type {\n",
       "        vertical-align: middle;\n",
       "    }\n",
       "\n",
       "    .dataframe tbody tr th {\n",
       "        vertical-align: top;\n",
       "    }\n",
       "\n",
       "    .dataframe thead th {\n",
       "        text-align: right;\n",
       "    }\n",
       "</style>\n",
       "<table border=\"1\" class=\"dataframe\">\n",
       "  <thead>\n",
       "    <tr style=\"text-align: right;\">\n",
       "      <th></th>\n",
       "      <th>movie_id</th>\n",
       "      <th>title</th>\n",
       "      <th>start_year</th>\n",
       "      <th>runtime_minutes</th>\n",
       "      <th>genres</th>\n",
       "      <th>averagerating</th>\n",
       "      <th>numvotes</th>\n",
       "    </tr>\n",
       "  </thead>\n",
       "  <tbody>\n",
       "    <tr>\n",
       "      <th>2387</th>\n",
       "      <td>tt1375666</td>\n",
       "      <td>Inception</td>\n",
       "      <td>2010</td>\n",
       "      <td>148.0</td>\n",
       "      <td>Action,Adventure,Sci-Fi</td>\n",
       "      <td>8.8</td>\n",
       "      <td>1841066</td>\n",
       "    </tr>\n",
       "    <tr>\n",
       "      <th>2241</th>\n",
       "      <td>tt1345836</td>\n",
       "      <td>The Dark Knight Rises</td>\n",
       "      <td>2012</td>\n",
       "      <td>164.0</td>\n",
       "      <td>Action,Thriller</td>\n",
       "      <td>8.4</td>\n",
       "      <td>1387769</td>\n",
       "    </tr>\n",
       "    <tr>\n",
       "      <th>280</th>\n",
       "      <td>tt0816692</td>\n",
       "      <td>Interstellar</td>\n",
       "      <td>2014</td>\n",
       "      <td>169.0</td>\n",
       "      <td>Adventure,Drama,Sci-Fi</td>\n",
       "      <td>8.6</td>\n",
       "      <td>1299334</td>\n",
       "    </tr>\n",
       "    <tr>\n",
       "      <th>12072</th>\n",
       "      <td>tt1853728</td>\n",
       "      <td>Django Unchained</td>\n",
       "      <td>2012</td>\n",
       "      <td>165.0</td>\n",
       "      <td>Drama,Western</td>\n",
       "      <td>8.4</td>\n",
       "      <td>1211405</td>\n",
       "    </tr>\n",
       "    <tr>\n",
       "      <th>325</th>\n",
       "      <td>tt0848228</td>\n",
       "      <td>The Avengers</td>\n",
       "      <td>2012</td>\n",
       "      <td>143.0</td>\n",
       "      <td>Action,Adventure,Sci-Fi</td>\n",
       "      <td>8.1</td>\n",
       "      <td>1183655</td>\n",
       "    </tr>\n",
       "    <tr>\n",
       "      <th>507</th>\n",
       "      <td>tt0993846</td>\n",
       "      <td>The Wolf of Wall Street</td>\n",
       "      <td>2013</td>\n",
       "      <td>180.0</td>\n",
       "      <td>Biography,Crime,Drama</td>\n",
       "      <td>8.2</td>\n",
       "      <td>1035358</td>\n",
       "    </tr>\n",
       "    <tr>\n",
       "      <th>1091</th>\n",
       "      <td>tt1130884</td>\n",
       "      <td>Shutter Island</td>\n",
       "      <td>2010</td>\n",
       "      <td>138.0</td>\n",
       "      <td>Mystery,Thriller</td>\n",
       "      <td>8.1</td>\n",
       "      <td>1005960</td>\n",
       "    </tr>\n",
       "    <tr>\n",
       "      <th>15327</th>\n",
       "      <td>tt2015381</td>\n",
       "      <td>Guardians of the Galaxy</td>\n",
       "      <td>2014</td>\n",
       "      <td>121.0</td>\n",
       "      <td>Action,Adventure,Comedy</td>\n",
       "      <td>8.1</td>\n",
       "      <td>948394</td>\n",
       "    </tr>\n",
       "    <tr>\n",
       "      <th>2831</th>\n",
       "      <td>tt1431045</td>\n",
       "      <td>Deadpool</td>\n",
       "      <td>2016</td>\n",
       "      <td>108.0</td>\n",
       "      <td>Action,Adventure,Comedy</td>\n",
       "      <td>8.0</td>\n",
       "      <td>820847</td>\n",
       "    </tr>\n",
       "    <tr>\n",
       "      <th>2523</th>\n",
       "      <td>tt1392170</td>\n",
       "      <td>The Hunger Games</td>\n",
       "      <td>2012</td>\n",
       "      <td>142.0</td>\n",
       "      <td>Action,Adventure,Sci-Fi</td>\n",
       "      <td>7.2</td>\n",
       "      <td>795227</td>\n",
       "    </tr>\n",
       "    <tr>\n",
       "      <th>25595</th>\n",
       "      <td>tt2488496</td>\n",
       "      <td>Star Wars: Episode VII - The Force Awakens</td>\n",
       "      <td>2015</td>\n",
       "      <td>136.0</td>\n",
       "      <td>Action,Adventure,Fantasy</td>\n",
       "      <td>8.0</td>\n",
       "      <td>784780</td>\n",
       "    </tr>\n",
       "    <tr>\n",
       "      <th>2524</th>\n",
       "      <td>tt1392190</td>\n",
       "      <td>Mad Max: Fury Road</td>\n",
       "      <td>2015</td>\n",
       "      <td>120.0</td>\n",
       "      <td>Action,Adventure,Sci-Fi</td>\n",
       "      <td>8.1</td>\n",
       "      <td>780910</td>\n",
       "    </tr>\n",
       "    <tr>\n",
       "      <th>20995</th>\n",
       "      <td>tt2267998</td>\n",
       "      <td>Gone Girl</td>\n",
       "      <td>2014</td>\n",
       "      <td>149.0</td>\n",
       "      <td>Drama,Mystery,Thriller</td>\n",
       "      <td>8.1</td>\n",
       "      <td>761592</td>\n",
       "    </tr>\n",
       "    <tr>\n",
       "      <th>397</th>\n",
       "      <td>tt0903624</td>\n",
       "      <td>The Hobbit: An Unexpected Journey</td>\n",
       "      <td>2012</td>\n",
       "      <td>169.0</td>\n",
       "      <td>Adventure,Family,Fantasy</td>\n",
       "      <td>7.9</td>\n",
       "      <td>719629</td>\n",
       "    </tr>\n",
       "    <tr>\n",
       "      <th>3053</th>\n",
       "      <td>tt1454468</td>\n",
       "      <td>Gravity</td>\n",
       "      <td>2013</td>\n",
       "      <td>91.0</td>\n",
       "      <td>Drama,Sci-Fi,Thriller</td>\n",
       "      <td>7.7</td>\n",
       "      <td>710018</td>\n",
       "    </tr>\n",
       "    <tr>\n",
       "      <th>1851</th>\n",
       "      <td>tt1300854</td>\n",
       "      <td>Iron Man 3</td>\n",
       "      <td>2013</td>\n",
       "      <td>130.0</td>\n",
       "      <td>Action,Adventure,Sci-Fi</td>\n",
       "      <td>7.2</td>\n",
       "      <td>692794</td>\n",
       "    </tr>\n",
       "    <tr>\n",
       "      <th>1291</th>\n",
       "      <td>tt1201607</td>\n",
       "      <td>Harry Potter and the Deathly Hallows: Part 2</td>\n",
       "      <td>2011</td>\n",
       "      <td>130.0</td>\n",
       "      <td>Adventure,Drama,Fantasy</td>\n",
       "      <td>8.1</td>\n",
       "      <td>691835</td>\n",
       "    </tr>\n",
       "    <tr>\n",
       "      <th>251</th>\n",
       "      <td>tt0800369</td>\n",
       "      <td>Thor</td>\n",
       "      <td>2011</td>\n",
       "      <td>115.0</td>\n",
       "      <td>Action,Adventure,Fantasy</td>\n",
       "      <td>7.0</td>\n",
       "      <td>683264</td>\n",
       "    </tr>\n",
       "    <tr>\n",
       "      <th>91</th>\n",
       "      <td>tt0435761</td>\n",
       "      <td>Toy Story 3</td>\n",
       "      <td>2010</td>\n",
       "      <td>103.0</td>\n",
       "      <td>Adventure,Animation,Comedy</td>\n",
       "      <td>8.3</td>\n",
       "      <td>682218</td>\n",
       "    </tr>\n",
       "    <tr>\n",
       "      <th>38441</th>\n",
       "      <td>tt3659388</td>\n",
       "      <td>The Martian</td>\n",
       "      <td>2015</td>\n",
       "      <td>144.0</td>\n",
       "      <td>Adventure,Drama,Sci-Fi</td>\n",
       "      <td>8.0</td>\n",
       "      <td>680116</td>\n",
       "    </tr>\n",
       "  </tbody>\n",
       "</table>\n",
       "</div>"
      ],
      "text/plain": [
       "        movie_id                                         title  start_year  \\\n",
       "2387   tt1375666                                     Inception        2010   \n",
       "2241   tt1345836                         The Dark Knight Rises        2012   \n",
       "280    tt0816692                                  Interstellar        2014   \n",
       "12072  tt1853728                              Django Unchained        2012   \n",
       "325    tt0848228                                  The Avengers        2012   \n",
       "507    tt0993846                       The Wolf of Wall Street        2013   \n",
       "1091   tt1130884                                Shutter Island        2010   \n",
       "15327  tt2015381                       Guardians of the Galaxy        2014   \n",
       "2831   tt1431045                                      Deadpool        2016   \n",
       "2523   tt1392170                              The Hunger Games        2012   \n",
       "25595  tt2488496    Star Wars: Episode VII - The Force Awakens        2015   \n",
       "2524   tt1392190                            Mad Max: Fury Road        2015   \n",
       "20995  tt2267998                                     Gone Girl        2014   \n",
       "397    tt0903624             The Hobbit: An Unexpected Journey        2012   \n",
       "3053   tt1454468                                       Gravity        2013   \n",
       "1851   tt1300854                                    Iron Man 3        2013   \n",
       "1291   tt1201607  Harry Potter and the Deathly Hallows: Part 2        2011   \n",
       "251    tt0800369                                          Thor        2011   \n",
       "91     tt0435761                                   Toy Story 3        2010   \n",
       "38441  tt3659388                                   The Martian        2015   \n",
       "\n",
       "       runtime_minutes                      genres  averagerating  numvotes  \n",
       "2387             148.0     Action,Adventure,Sci-Fi            8.8   1841066  \n",
       "2241             164.0             Action,Thriller            8.4   1387769  \n",
       "280              169.0      Adventure,Drama,Sci-Fi            8.6   1299334  \n",
       "12072            165.0               Drama,Western            8.4   1211405  \n",
       "325              143.0     Action,Adventure,Sci-Fi            8.1   1183655  \n",
       "507              180.0       Biography,Crime,Drama            8.2   1035358  \n",
       "1091             138.0            Mystery,Thriller            8.1   1005960  \n",
       "15327            121.0     Action,Adventure,Comedy            8.1    948394  \n",
       "2831             108.0     Action,Adventure,Comedy            8.0    820847  \n",
       "2523             142.0     Action,Adventure,Sci-Fi            7.2    795227  \n",
       "25595            136.0    Action,Adventure,Fantasy            8.0    784780  \n",
       "2524             120.0     Action,Adventure,Sci-Fi            8.1    780910  \n",
       "20995            149.0      Drama,Mystery,Thriller            8.1    761592  \n",
       "397              169.0    Adventure,Family,Fantasy            7.9    719629  \n",
       "3053              91.0       Drama,Sci-Fi,Thriller            7.7    710018  \n",
       "1851             130.0     Action,Adventure,Sci-Fi            7.2    692794  \n",
       "1291             130.0     Adventure,Drama,Fantasy            8.1    691835  \n",
       "251              115.0    Action,Adventure,Fantasy            7.0    683264  \n",
       "91               103.0  Adventure,Animation,Comedy            8.3    682218  \n",
       "38441            144.0      Adventure,Drama,Sci-Fi            8.0    680116  "
      ]
     },
     "execution_count": 41,
     "metadata": {},
     "output_type": "execute_result"
    }
   ],
   "source": [
    "top_numvotes = df.sort_values(by='numvotes',ascending = False)[:20]\n",
    "top_numvotes"
   ]
  },
  {
   "cell_type": "code",
   "execution_count": 42,
   "metadata": {},
   "outputs": [
    {
     "data": {
      "image/png": "[encoded data removed]",
      "text/plain": [
       "<Figure size 864x432 with 1 Axes>"
      ]
     },
     "metadata": {
      "needs_background": "light"
     },
     "output_type": "display_data"
    }
   ],
   "source": [
    "# Extract the data for the chart\n",
    "genres = top_numvotes['genres']\n",
    "ratings = top_numvotes['numvotes']\n",
    "\n",
    "#Plot the bar chart\n",
    "plt.figure(figsize=(12, 6))  \n",
    "plt.barh(genres, ratings, color='skyblue')  \n",
    "plt.xlabel('Number of votes')\n",
    "plt.ylabel('Genres')\n",
    "plt.title('Top 20 Genres by number of votes')\n",
    "plt.gca().invert_yaxis()  # Invert the y-axis to show the highest rating at the top\n",
    "plt.show()"
   ]
  },
  {
   "cell_type": "markdown",
   "metadata": {},
   "source": [
    "Most recommendend genre combination are 'Adventure, Drama, Sci-fi', 'Action Thriller' and 'Adventure,dram,sci-fi'."
   ]
  },
  {
   "cell_type": "markdown",
   "metadata": {},
   "source": [
    "##### Which combinations of genres brought in the most revenue."
   ]
  },
  {
   "cell_type": "code",
   "execution_count": 43,
   "metadata": {},
   "outputs": [
    {
     "data": {
      "text/html": [
       "<div>\n",
       "<style scoped>\n",
       "    .dataframe tbody tr th:only-of-type {\n",
       "        vertical-align: middle;\n",
       "    }\n",
       "\n",
       "    .dataframe tbody tr th {\n",
       "        vertical-align: top;\n",
       "    }\n",
       "\n",
       "    .dataframe thead th {\n",
       "        text-align: right;\n",
       "    }\n",
       "</style>\n",
       "<table border=\"1\" class=\"dataframe\">\n",
       "  <thead>\n",
       "    <tr style=\"text-align: right;\">\n",
       "      <th></th>\n",
       "      <th>start_year</th>\n",
       "      <th>runtime_minutes</th>\n",
       "      <th>averagerating</th>\n",
       "      <th>numvotes</th>\n",
       "      <th>domestic_gross</th>\n",
       "      <th>foreign_gross</th>\n",
       "    </tr>\n",
       "    <tr>\n",
       "      <th>genres</th>\n",
       "      <th></th>\n",
       "      <th></th>\n",
       "      <th></th>\n",
       "      <th></th>\n",
       "      <th></th>\n",
       "      <th></th>\n",
       "    </tr>\n",
       "  </thead>\n",
       "  <tbody>\n",
       "    <tr>\n",
       "      <th>Adventure,Animation,Comedy</th>\n",
       "      <td>151065</td>\n",
       "      <td>7084.0</td>\n",
       "      <td>482.9</td>\n",
       "      <td>8037681</td>\n",
       "      <td>9.645133e+09</td>\n",
       "      <td>1.801830e+10</td>\n",
       "    </tr>\n",
       "    <tr>\n",
       "      <th>Action,Adventure,Sci-Fi</th>\n",
       "      <td>94658</td>\n",
       "      <td>6139.0</td>\n",
       "      <td>318.5</td>\n",
       "      <td>19721992</td>\n",
       "      <td>1.102470e+10</td>\n",
       "      <td>1.663010e+10</td>\n",
       "    </tr>\n",
       "    <tr>\n",
       "      <th>Action,Adventure,Fantasy</th>\n",
       "      <td>62467</td>\n",
       "      <td>3655.0</td>\n",
       "      <td>194.9</td>\n",
       "      <td>7763568</td>\n",
       "      <td>4.378787e+09</td>\n",
       "      <td>8.936100e+09</td>\n",
       "    </tr>\n",
       "    <tr>\n",
       "      <th>Action,Adventure,Comedy</th>\n",
       "      <td>64493</td>\n",
       "      <td>3543.0</td>\n",
       "      <td>200.7</td>\n",
       "      <td>5800318</td>\n",
       "      <td>3.172472e+09</td>\n",
       "      <td>6.625100e+09</td>\n",
       "    </tr>\n",
       "    <tr>\n",
       "      <th>Drama</th>\n",
       "      <td>606127</td>\n",
       "      <td>31915.0</td>\n",
       "      <td>2010.3</td>\n",
       "      <td>4723982</td>\n",
       "      <td>2.671187e+09</td>\n",
       "      <td>6.577662e+09</td>\n",
       "    </tr>\n",
       "    <tr>\n",
       "      <th>Action,Adventure,Thriller</th>\n",
       "      <td>34238</td>\n",
       "      <td>2116.0</td>\n",
       "      <td>110.1</td>\n",
       "      <td>3634468</td>\n",
       "      <td>1.851798e+09</td>\n",
       "      <td>4.767000e+09</td>\n",
       "    </tr>\n",
       "    <tr>\n",
       "      <th>Action,Adventure,Animation</th>\n",
       "      <td>44311</td>\n",
       "      <td>2205.0</td>\n",
       "      <td>161.8</td>\n",
       "      <td>2749710</td>\n",
       "      <td>2.184660e+09</td>\n",
       "      <td>4.363000e+09</td>\n",
       "    </tr>\n",
       "    <tr>\n",
       "      <th>Action,Adventure,Drama</th>\n",
       "      <td>76526</td>\n",
       "      <td>4482.0</td>\n",
       "      <td>234.1</td>\n",
       "      <td>3849266</td>\n",
       "      <td>1.753573e+09</td>\n",
       "      <td>3.737032e+09</td>\n",
       "    </tr>\n",
       "    <tr>\n",
       "      <th>Comedy</th>\n",
       "      <td>185267</td>\n",
       "      <td>9257.0</td>\n",
       "      <td>530.6</td>\n",
       "      <td>3877243</td>\n",
       "      <td>2.357257e+09</td>\n",
       "      <td>3.141074e+09</td>\n",
       "    </tr>\n",
       "    <tr>\n",
       "      <th>Documentary</th>\n",
       "      <td>209414</td>\n",
       "      <td>9015.0</td>\n",
       "      <td>748.9</td>\n",
       "      <td>294444</td>\n",
       "      <td>1.638765e+09</td>\n",
       "      <td>2.983983e+09</td>\n",
       "    </tr>\n",
       "    <tr>\n",
       "      <th>Comedy,Drama,Romance</th>\n",
       "      <td>265741</td>\n",
       "      <td>14205.0</td>\n",
       "      <td>838.2</td>\n",
       "      <td>5871460</td>\n",
       "      <td>1.673457e+09</td>\n",
       "      <td>2.916210e+09</td>\n",
       "    </tr>\n",
       "    <tr>\n",
       "      <th>Comedy,Drama</th>\n",
       "      <td>265770</td>\n",
       "      <td>13964.0</td>\n",
       "      <td>873.7</td>\n",
       "      <td>3427350</td>\n",
       "      <td>1.730644e+09</td>\n",
       "      <td>2.615385e+09</td>\n",
       "    </tr>\n",
       "    <tr>\n",
       "      <th>Action,Thriller</th>\n",
       "      <td>60434</td>\n",
       "      <td>3448.0</td>\n",
       "      <td>182.9</td>\n",
       "      <td>3624075</td>\n",
       "      <td>1.375148e+09</td>\n",
       "      <td>2.573900e+09</td>\n",
       "    </tr>\n",
       "    <tr>\n",
       "      <th>Drama,Romance</th>\n",
       "      <td>223513</td>\n",
       "      <td>12165.0</td>\n",
       "      <td>739.3</td>\n",
       "      <td>3530766</td>\n",
       "      <td>1.042107e+09</td>\n",
       "      <td>2.474209e+09</td>\n",
       "    </tr>\n",
       "    <tr>\n",
       "      <th>Action,Drama,Thriller</th>\n",
       "      <td>58409</td>\n",
       "      <td>3322.0</td>\n",
       "      <td>183.4</td>\n",
       "      <td>1598993</td>\n",
       "      <td>4.926565e+08</td>\n",
       "      <td>2.296655e+09</td>\n",
       "    </tr>\n",
       "    <tr>\n",
       "      <th>Comedy,Romance</th>\n",
       "      <td>142943</td>\n",
       "      <td>7515.0</td>\n",
       "      <td>434.7</td>\n",
       "      <td>3252767</td>\n",
       "      <td>1.848590e+09</td>\n",
       "      <td>2.221372e+09</td>\n",
       "    </tr>\n",
       "    <tr>\n",
       "      <th>Adventure,Family,Fantasy</th>\n",
       "      <td>16121</td>\n",
       "      <td>960.0</td>\n",
       "      <td>48.9</td>\n",
       "      <td>1317669</td>\n",
       "      <td>9.235000e+08</td>\n",
       "      <td>2.156400e+09</td>\n",
       "    </tr>\n",
       "    <tr>\n",
       "      <th>Action,Crime,Thriller</th>\n",
       "      <td>70469</td>\n",
       "      <td>4063.0</td>\n",
       "      <td>225.8</td>\n",
       "      <td>3806894</td>\n",
       "      <td>1.673852e+09</td>\n",
       "      <td>1.974302e+09</td>\n",
       "    </tr>\n",
       "    <tr>\n",
       "      <th>Horror,Mystery,Thriller</th>\n",
       "      <td>66467</td>\n",
       "      <td>3078.0</td>\n",
       "      <td>181.5</td>\n",
       "      <td>2693263</td>\n",
       "      <td>1.484528e+09</td>\n",
       "      <td>1.858900e+09</td>\n",
       "    </tr>\n",
       "    <tr>\n",
       "      <th>Horror</th>\n",
       "      <td>58418</td>\n",
       "      <td>2587.0</td>\n",
       "      <td>143.7</td>\n",
       "      <td>616845</td>\n",
       "      <td>9.050155e+08</td>\n",
       "      <td>1.652505e+09</td>\n",
       "    </tr>\n",
       "  </tbody>\n",
       "</table>\n",
       "</div>"
      ],
      "text/plain": [
       "                            start_year  runtime_minutes  averagerating  \\\n",
       "genres                                                                   \n",
       "Adventure,Animation,Comedy      151065           7084.0          482.9   \n",
       "Action,Adventure,Sci-Fi          94658           6139.0          318.5   \n",
       "Action,Adventure,Fantasy         62467           3655.0          194.9   \n",
       "Action,Adventure,Comedy          64493           3543.0          200.7   \n",
       "Drama                           606127          31915.0         2010.3   \n",
       "Action,Adventure,Thriller        34238           2116.0          110.1   \n",
       "Action,Adventure,Animation       44311           2205.0          161.8   \n",
       "Action,Adventure,Drama           76526           4482.0          234.1   \n",
       "Comedy                          185267           9257.0          530.6   \n",
       "Documentary                     209414           9015.0          748.9   \n",
       "Comedy,Drama,Romance            265741          14205.0          838.2   \n",
       "Comedy,Drama                    265770          13964.0          873.7   \n",
       "Action,Thriller                  60434           3448.0          182.9   \n",
       "Drama,Romance                   223513          12165.0          739.3   \n",
       "Action,Drama,Thriller            58409           3322.0          183.4   \n",
       "Comedy,Romance                  142943           7515.0          434.7   \n",
       "Adventure,Family,Fantasy         16121            960.0           48.9   \n",
       "Action,Crime,Thriller            70469           4063.0          225.8   \n",
       "Horror,Mystery,Thriller          66467           3078.0          181.5   \n",
       "Horror                           58418           2587.0          143.7   \n",
       "\n",
       "                            numvotes  domestic_gross  foreign_gross  \n",
       "genres                                                               \n",
       "Adventure,Animation,Comedy   8037681    9.645133e+09   1.801830e+10  \n",
       "Action,Adventure,Sci-Fi     19721992    1.102470e+10   1.663010e+10  \n",
       "Action,Adventure,Fantasy     7763568    4.378787e+09   8.936100e+09  \n",
       "Action,Adventure,Comedy      5800318    3.172472e+09   6.625100e+09  \n",
       "Drama                        4723982    2.671187e+09   6.577662e+09  \n",
       "Action,Adventure,Thriller    3634468    1.851798e+09   4.767000e+09  \n",
       "Action,Adventure,Animation   2749710    2.184660e+09   4.363000e+09  \n",
       "Action,Adventure,Drama       3849266    1.753573e+09   3.737032e+09  \n",
       "Comedy                       3877243    2.357257e+09   3.141074e+09  \n",
       "Documentary                   294444    1.638765e+09   2.983983e+09  \n",
       "Comedy,Drama,Romance         5871460    1.673457e+09   2.916210e+09  \n",
       "Comedy,Drama                 3427350    1.730644e+09   2.615385e+09  \n",
       "Action,Thriller              3624075    1.375148e+09   2.573900e+09  \n",
       "Drama,Romance                3530766    1.042107e+09   2.474209e+09  \n",
       "Action,Drama,Thriller        1598993    4.926565e+08   2.296655e+09  \n",
       "Comedy,Romance               3252767    1.848590e+09   2.221372e+09  \n",
       "Adventure,Family,Fantasy     1317669    9.235000e+08   2.156400e+09  \n",
       "Action,Crime,Thriller        3806894    1.673852e+09   1.974302e+09  \n",
       "Horror,Mystery,Thriller      2693263    1.484528e+09   1.858900e+09  \n",
       "Horror                        616845    9.050155e+08   1.652505e+09  "
      ]
     },
     "execution_count": 43,
     "metadata": {},
     "output_type": "execute_result"
    }
   ],
   "source": [
    "top_20_by_revenue = merged_df.groupby('genres').sum().sort_values(by=['foreign_gross'],ascending = False)[:20]\n",
    "top_20_by_revenue"
   ]
  },
  {
   "cell_type": "code",
   "execution_count": 44,
   "metadata": {},
   "outputs": [
    {
     "data": {
      "image/png": "[encoded data removed]",
      "text/plain": [
       "<Figure size 864x432 with 1 Axes>"
      ]
     },
     "metadata": {
      "needs_background": "light"
     },
     "output_type": "display_data"
    }
   ],
   "source": [
    "#Extract the data for the chart\n",
    "genres = top_20_by_revenue.index\n",
    "ratings = top_20_by_revenue['foreign_gross']\n",
    "\n",
    "plt.figure(figsize=(12, 6))  \n",
    "plt.barh(genres, ratings, color='orange')  \n",
    "plt.xlabel('Foreign Gross')\n",
    "plt.ylabel('Genres')\n",
    "plt.title('Top 20 Genres with Highest Foreign Gross')\n",
    "plt.gca().invert_yaxis()  # Invert the y-axis to show the highest rating at the top\n",
    "plt.show()"
   ]
  },
  {
   "cell_type": "markdown",
   "metadata": {},
   "source": [
    "##### Genres with most domestic gross"
   ]
  },
  {
   "cell_type": "code",
   "execution_count": 45,
   "metadata": {},
   "outputs": [
    {
     "data": {
      "text/html": [
       "<div>\n",
       "<style scoped>\n",
       "    .dataframe tbody tr th:only-of-type {\n",
       "        vertical-align: middle;\n",
       "    }\n",
       "\n",
       "    .dataframe tbody tr th {\n",
       "        vertical-align: top;\n",
       "    }\n",
       "\n",
       "    .dataframe thead th {\n",
       "        text-align: right;\n",
       "    }\n",
       "</style>\n",
       "<table border=\"1\" class=\"dataframe\">\n",
       "  <thead>\n",
       "    <tr style=\"text-align: right;\">\n",
       "      <th></th>\n",
       "      <th>start_year</th>\n",
       "      <th>runtime_minutes</th>\n",
       "      <th>averagerating</th>\n",
       "      <th>numvotes</th>\n",
       "      <th>domestic_gross</th>\n",
       "      <th>foreign_gross</th>\n",
       "    </tr>\n",
       "    <tr>\n",
       "      <th>genres</th>\n",
       "      <th></th>\n",
       "      <th></th>\n",
       "      <th></th>\n",
       "      <th></th>\n",
       "      <th></th>\n",
       "      <th></th>\n",
       "    </tr>\n",
       "  </thead>\n",
       "  <tbody>\n",
       "    <tr>\n",
       "      <th>Action,Adventure,Sci-Fi</th>\n",
       "      <td>90630</td>\n",
       "      <td>5891.0</td>\n",
       "      <td>309.0</td>\n",
       "      <td>19688665</td>\n",
       "      <td>1.097470e+10</td>\n",
       "      <td>1.658320e+10</td>\n",
       "    </tr>\n",
       "    <tr>\n",
       "      <th>Adventure,Animation,Comedy</th>\n",
       "      <td>108756</td>\n",
       "      <td>5182.0</td>\n",
       "      <td>358.0</td>\n",
       "      <td>7828812</td>\n",
       "      <td>9.098600e+09</td>\n",
       "      <td>1.705270e+10</td>\n",
       "    </tr>\n",
       "    <tr>\n",
       "      <th>Action,Adventure,Fantasy</th>\n",
       "      <td>60449</td>\n",
       "      <td>3541.0</td>\n",
       "      <td>189.4</td>\n",
       "      <td>7762595</td>\n",
       "      <td>4.378600e+09</td>\n",
       "      <td>8.821200e+09</td>\n",
       "    </tr>\n",
       "    <tr>\n",
       "      <th>Action,Adventure,Comedy</th>\n",
       "      <td>38300</td>\n",
       "      <td>2149.0</td>\n",
       "      <td>128.5</td>\n",
       "      <td>5693950</td>\n",
       "      <td>3.133300e+09</td>\n",
       "      <td>5.323900e+09</td>\n",
       "    </tr>\n",
       "    <tr>\n",
       "      <th>Comedy</th>\n",
       "      <td>76525</td>\n",
       "      <td>3799.0</td>\n",
       "      <td>221.9</td>\n",
       "      <td>3671254</td>\n",
       "      <td>2.215195e+09</td>\n",
       "      <td>1.883844e+09</td>\n",
       "    </tr>\n",
       "    <tr>\n",
       "      <th>Action,Adventure,Animation</th>\n",
       "      <td>26169</td>\n",
       "      <td>1280.0</td>\n",
       "      <td>96.1</td>\n",
       "      <td>2670162</td>\n",
       "      <td>2.158200e+09</td>\n",
       "      <td>4.129000e+09</td>\n",
       "    </tr>\n",
       "    <tr>\n",
       "      <th>Action,Adventure,Thriller</th>\n",
       "      <td>30209</td>\n",
       "      <td>1798.0</td>\n",
       "      <td>98.8</td>\n",
       "      <td>3608927</td>\n",
       "      <td>1.845500e+09</td>\n",
       "      <td>4.666500e+09</td>\n",
       "    </tr>\n",
       "    <tr>\n",
       "      <th>Action,Comedy,Crime</th>\n",
       "      <td>54371</td>\n",
       "      <td>2873.0</td>\n",
       "      <td>167.9</td>\n",
       "      <td>3412614</td>\n",
       "      <td>1.782709e+09</td>\n",
       "      <td>1.311300e+09</td>\n",
       "    </tr>\n",
       "    <tr>\n",
       "      <th>Action,Adventure,Drama</th>\n",
       "      <td>56378</td>\n",
       "      <td>3281.0</td>\n",
       "      <td>174.9</td>\n",
       "      <td>3761328</td>\n",
       "      <td>1.749350e+09</td>\n",
       "      <td>3.336432e+09</td>\n",
       "    </tr>\n",
       "    <tr>\n",
       "      <th>Action,Crime,Thriller</th>\n",
       "      <td>48312</td>\n",
       "      <td>2792.0</td>\n",
       "      <td>160.0</td>\n",
       "      <td>3744866</td>\n",
       "      <td>1.669110e+09</td>\n",
       "      <td>1.784802e+09</td>\n",
       "    </tr>\n",
       "    <tr>\n",
       "      <th>Comedy,Romance</th>\n",
       "      <td>68421</td>\n",
       "      <td>3593.0</td>\n",
       "      <td>209.6</td>\n",
       "      <td>3086945</td>\n",
       "      <td>1.599700e+09</td>\n",
       "      <td>1.468627e+09</td>\n",
       "    </tr>\n",
       "    <tr>\n",
       "      <th>Comedy,Drama,Romance</th>\n",
       "      <td>126804</td>\n",
       "      <td>6652.0</td>\n",
       "      <td>419.4</td>\n",
       "      <td>5354960</td>\n",
       "      <td>1.394107e+09</td>\n",
       "      <td>1.793325e+09</td>\n",
       "    </tr>\n",
       "    <tr>\n",
       "      <th>Horror,Mystery,Thriller</th>\n",
       "      <td>50352</td>\n",
       "      <td>2355.0</td>\n",
       "      <td>145.3</td>\n",
       "      <td>2580387</td>\n",
       "      <td>1.377233e+09</td>\n",
       "      <td>1.728300e+09</td>\n",
       "    </tr>\n",
       "    <tr>\n",
       "      <th>Action,Thriller</th>\n",
       "      <td>36251</td>\n",
       "      <td>2042.0</td>\n",
       "      <td>115.3</td>\n",
       "      <td>3577968</td>\n",
       "      <td>1.370600e+09</td>\n",
       "      <td>2.363600e+09</td>\n",
       "    </tr>\n",
       "    <tr>\n",
       "      <th>Biography,Drama,History</th>\n",
       "      <td>46346</td>\n",
       "      <td>2931.0</td>\n",
       "      <td>168.4</td>\n",
       "      <td>3140934</td>\n",
       "      <td>1.169561e+09</td>\n",
       "      <td>1.245200e+09</td>\n",
       "    </tr>\n",
       "    <tr>\n",
       "      <th>Comedy,Drama</th>\n",
       "      <td>94630</td>\n",
       "      <td>5238.0</td>\n",
       "      <td>318.7</td>\n",
       "      <td>2920769</td>\n",
       "      <td>1.072232e+09</td>\n",
       "      <td>1.154336e+09</td>\n",
       "    </tr>\n",
       "    <tr>\n",
       "      <th>Drama,Romance</th>\n",
       "      <td>90597</td>\n",
       "      <td>5281.0</td>\n",
       "      <td>314.9</td>\n",
       "      <td>3179520</td>\n",
       "      <td>9.046257e+08</td>\n",
       "      <td>1.418356e+09</td>\n",
       "    </tr>\n",
       "    <tr>\n",
       "      <th>Animation,Comedy,Family</th>\n",
       "      <td>10065</td>\n",
       "      <td>470.0</td>\n",
       "      <td>35.6</td>\n",
       "      <td>967427</td>\n",
       "      <td>8.752000e+08</td>\n",
       "      <td>1.216800e+09</td>\n",
       "    </tr>\n",
       "    <tr>\n",
       "      <th>Adventure,Family,Fantasy</th>\n",
       "      <td>14103</td>\n",
       "      <td>861.0</td>\n",
       "      <td>43.4</td>\n",
       "      <td>1298935</td>\n",
       "      <td>8.686000e+08</td>\n",
       "      <td>2.037300e+09</td>\n",
       "    </tr>\n",
       "    <tr>\n",
       "      <th>Action,Crime,Drama</th>\n",
       "      <td>50341</td>\n",
       "      <td>2934.0</td>\n",
       "      <td>174.9</td>\n",
       "      <td>3747824</td>\n",
       "      <td>8.144790e+08</td>\n",
       "      <td>9.664000e+08</td>\n",
       "    </tr>\n",
       "  </tbody>\n",
       "</table>\n",
       "</div>"
      ],
      "text/plain": [
       "                            start_year  runtime_minutes  averagerating  \\\n",
       "genres                                                                   \n",
       "Action,Adventure,Sci-Fi          90630           5891.0          309.0   \n",
       "Adventure,Animation,Comedy      108756           5182.0          358.0   \n",
       "Action,Adventure,Fantasy         60449           3541.0          189.4   \n",
       "Action,Adventure,Comedy          38300           2149.0          128.5   \n",
       "Comedy                           76525           3799.0          221.9   \n",
       "Action,Adventure,Animation       26169           1280.0           96.1   \n",
       "Action,Adventure,Thriller        30209           1798.0           98.8   \n",
       "Action,Comedy,Crime              54371           2873.0          167.9   \n",
       "Action,Adventure,Drama           56378           3281.0          174.9   \n",
       "Action,Crime,Thriller            48312           2792.0          160.0   \n",
       "Comedy,Romance                   68421           3593.0          209.6   \n",
       "Comedy,Drama,Romance            126804           6652.0          419.4   \n",
       "Horror,Mystery,Thriller          50352           2355.0          145.3   \n",
       "Action,Thriller                  36251           2042.0          115.3   \n",
       "Biography,Drama,History          46346           2931.0          168.4   \n",
       "Comedy,Drama                     94630           5238.0          318.7   \n",
       "Drama,Romance                    90597           5281.0          314.9   \n",
       "Animation,Comedy,Family          10065            470.0           35.6   \n",
       "Adventure,Family,Fantasy         14103            861.0           43.4   \n",
       "Action,Crime,Drama               50341           2934.0          174.9   \n",
       "\n",
       "                            numvotes  domestic_gross  foreign_gross  \n",
       "genres                                                               \n",
       "Action,Adventure,Sci-Fi     19688665    1.097470e+10   1.658320e+10  \n",
       "Adventure,Animation,Comedy   7828812    9.098600e+09   1.705270e+10  \n",
       "Action,Adventure,Fantasy     7762595    4.378600e+09   8.821200e+09  \n",
       "Action,Adventure,Comedy      5693950    3.133300e+09   5.323900e+09  \n",
       "Comedy                       3671254    2.215195e+09   1.883844e+09  \n",
       "Action,Adventure,Animation   2670162    2.158200e+09   4.129000e+09  \n",
       "Action,Adventure,Thriller    3608927    1.845500e+09   4.666500e+09  \n",
       "Action,Comedy,Crime          3412614    1.782709e+09   1.311300e+09  \n",
       "Action,Adventure,Drama       3761328    1.749350e+09   3.336432e+09  \n",
       "Action,Crime,Thriller        3744866    1.669110e+09   1.784802e+09  \n",
       "Comedy,Romance               3086945    1.599700e+09   1.468627e+09  \n",
       "Comedy,Drama,Romance         5354960    1.394107e+09   1.793325e+09  \n",
       "Horror,Mystery,Thriller      2580387    1.377233e+09   1.728300e+09  \n",
       "Action,Thriller              3577968    1.370600e+09   2.363600e+09  \n",
       "Biography,Drama,History      3140934    1.169561e+09   1.245200e+09  \n",
       "Comedy,Drama                 2920769    1.072232e+09   1.154336e+09  \n",
       "Drama,Romance                3179520    9.046257e+08   1.418356e+09  \n",
       "Animation,Comedy,Family       967427    8.752000e+08   1.216800e+09  \n",
       "Adventure,Family,Fantasy     1298935    8.686000e+08   2.037300e+09  \n",
       "Action,Crime,Drama           3747824    8.144790e+08   9.664000e+08  "
      ]
     },
     "execution_count": 45,
     "metadata": {},
     "output_type": "execute_result"
    }
   ],
   "source": [
    "top_20_by_gross = merged_df[merged_df['numvotes'] >=20000].groupby('genres').sum().sort_values(by=['domestic_gross'],ascending = False)[:20]\n",
    "top_20_by_gross"
   ]
  },
  {
   "cell_type": "code",
   "execution_count": 46,
   "metadata": {},
   "outputs": [
    {
     "data": {
      "image/png": "[encoded data removed]",
      "text/plain": [
       "<Figure size 864x432 with 1 Axes>"
      ]
     },
     "metadata": {
      "needs_background": "light"
     },
     "output_type": "display_data"
    }
   ],
   "source": [
    "genres = top_20_by_revenue.index\n",
    "ratings = top_20_by_revenue['domestic_gross']\n",
    "\n",
    "plt.figure(figsize=(12, 6))  \n",
    "plt.bar(genres, ratings, color='Darkblue')  \n",
    "plt.tick_params(axis=\"x\", labelrotation=75)\n",
    "plt.ylabel('Domestic Gross')\n",
    "plt.xlabel('Genres')\n",
    "plt.title('Top 20 Genres with Highest Domestic Gross')\n",
    "plt.gca().invert_xaxis()  # Invert the y-axis to show the highest rating at the top\n",
    "plt.show()"
   ]
  },
  {
   "cell_type": "markdown",
   "metadata": {},
   "source": [
    " ### Bivariate Analysis\n",
    "\n",
    "Shows relationship between 2 variables."
   ]
  },
  {
   "cell_type": "markdown",
   "metadata": {},
   "source": [
    "We can check the trend in total foreign gross over the years. This can help us get an insight on how the movie industry has been growing over the years and if its a worthy industry to venture in to."
   ]
  },
  {
   "cell_type": "code",
   "execution_count": 47,
   "metadata": {},
   "outputs": [
    {
     "data": {
      "image/png": "[encoded data removed]",
      "text/plain": [
       "<Figure size 864x432 with 1 Axes>"
      ]
     },
     "metadata": {
      "needs_background": "light"
     },
     "output_type": "display_data"
    }
   ],
   "source": [
    "# Scatter plot for foreign_gross vs year\n",
    "v = merged_df.groupby('start_year')['foreign_gross'].sum()\n",
    "plt.figure(figsize=(12, 6))\n",
    "sns.lineplot(data=movie_gross, x='year', y='foreign_gross')\n",
    "plt.xlabel('Year')\n",
    "plt.ylabel('Foreign_gross')\n",
    "plt.title('Scatter Plot: Foreign Gross over the years')\n",
    "plt.show()"
   ]
  },
  {
   "cell_type": "code",
   "execution_count": 48,
   "metadata": {},
   "outputs": [
    {
     "data": {
      "text/plain": [
       "start_year\n",
       "2010    1.476497e+10\n",
       "2011    1.760309e+10\n",
       "2012    1.704383e+10\n",
       "2013    1.923130e+10\n",
       "2014    1.927196e+10\n",
       "2015    1.709426e+10\n",
       "2016    2.146418e+10\n",
       "2017    2.002154e+10\n",
       "2018    1.599344e+10\n",
       "2019    3.167371e+08\n",
       "Name: foreign_gross, dtype: float64"
      ]
     },
     "execution_count": 48,
     "metadata": {},
     "output_type": "execute_result"
    }
   ],
   "source": [
    "v"
   ]
  },
  {
   "cell_type": "markdown",
   "metadata": {},
   "source": [
    "## Conclusions\n",
    "\n",
    "#### Evaluation\n",
    "\n",
    "***"
   ]
  },
  {
   "cell_type": "markdown",
   "metadata": {},
   "source": [
    "3 of the above graphs, Top 20 Domestic Gross Sales, Top 20 Foreign Gross Sales and Top 20 genres based on number of Votes clearly show that **Adventure, Action and Sci-Fi combination are most successful genre** producing highest profits and is well loved by the audience with high ratings and number of votes. \n",
    "Its also clear to see that the adventure genre is popular across the board especially when elements of  action and or comedy are also included.\n",
    "\n",
    "The graph showing Top 20 Average Ratings shows Drama also does well as a genre in terms of ratings.\n",
    "\n",
    "**Most recommendend genre combination are 'Adventure, Drama, Sci-fi', 'Action Thriller' and 'Adventure,drama,sci-fi'**.\n",
    "\n",
    "To improve confidence in the results next time I would:-\n",
    "Note to take is that some movies have high ratings but not alot of votes hence i would trust data from votes rather ratings.\n",
    "\n",
    "\n",
    "Include the movie classification This could have narrowed down the target audience the most successful movies were aimed at i.e PG etc.\n",
    "\n",
    "Broken the data into the relevant years to see if there are changes year by year in the top genres of movies, see if audience tastes change over time."
   ]
  },
  {
   "cell_type": "markdown",
   "metadata": {},
   "source": [
    "### Next steps\n",
    "\n",
    "***"
   ]
  },
  {
   "cell_type": "markdown",
   "metadata": {},
   "source": [
    " Questions to consider:\n",
    "\n",
    "Limitations-Could the same movie be classified into different genres by different audiences? Who classifies the genres for each movie? Can the classification of genres be improved to provide a more benchmark approach? Future analysis could include the movie classification ie PG, MA etc to see which audience the most successful movies were made for."
   ]
  }
 ],
 "metadata": {
  "kernelspec": {
   "display_name": "Python 3",
   "language": "python",
   "name": "python3"
  },
  "language_info": {
   "codemirror_mode": {
    "name": "ipython",
    "version": 3
   },
   "file_extension": ".py",
   "mimetype": "text/x-python",
   "name": "python",
   "nbconvert_exporter": "python",
   "pygments_lexer": "ipython3",
   "version": "3.8.5"
  }
 },
 "nbformat": 4,
 "nbformat_minor": 4
}
